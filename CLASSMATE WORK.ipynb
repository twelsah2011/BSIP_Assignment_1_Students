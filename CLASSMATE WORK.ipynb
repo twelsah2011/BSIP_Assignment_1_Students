{
 "cells": [
  {
   "cell_type": "code",
   "execution_count": 1,
   "metadata": {},
   "outputs": [],
   "source": [
    "import thinkplot\n",
    "import thinkstats2\n",
    "import pandas as pd\n",
    "import numpy as np\n",
    "import scipy\n",
    "import seaborn as sns\n",
    "from matplotlib import pyplot as plt"
   ]
  },
  {
   "cell_type": "markdown",
   "metadata": {},
   "source": [
    "Load Data\n",
    "Load the labor data into a dataframe. You probably don't want to change this section."
   ]
  },
  {
   "cell_type": "code",
   "execution_count": 2,
   "metadata": {},
   "outputs": [
    {
     "data": {
      "text/html": [
       "<div>\n",
       "<style scoped>\n",
       "    .dataframe tbody tr th:only-of-type {\n",
       "        vertical-align: middle;\n",
       "    }\n",
       "\n",
       "    .dataframe tbody tr th {\n",
       "        vertical-align: top;\n",
       "    }\n",
       "\n",
       "    .dataframe thead th {\n",
       "        text-align: right;\n",
       "    }\n",
       "</style>\n",
       "<table border=\"1\" class=\"dataframe\">\n",
       "  <thead>\n",
       "    <tr style=\"text-align: right;\">\n",
       "      <th></th>\n",
       "      <th>Age</th>\n",
       "      <th>Eduacation</th>\n",
       "      <th>Race</th>\n",
       "      <th>Hisp</th>\n",
       "      <th>MaritalStatus</th>\n",
       "      <th>Nodeg</th>\n",
       "      <th>Earnings_1974</th>\n",
       "      <th>Earnings_1975</th>\n",
       "      <th>Earnings_1978</th>\n",
       "    </tr>\n",
       "  </thead>\n",
       "  <tbody>\n",
       "    <tr>\n",
       "      <th>0</th>\n",
       "      <td>45</td>\n",
       "      <td>LessThanHighSchool</td>\n",
       "      <td>NotBlack</td>\n",
       "      <td>NotHispanic</td>\n",
       "      <td>Married</td>\n",
       "      <td>1</td>\n",
       "      <td>21516.670</td>\n",
       "      <td>25243.550</td>\n",
       "      <td>25564.670</td>\n",
       "    </tr>\n",
       "    <tr>\n",
       "      <th>1</th>\n",
       "      <td>21</td>\n",
       "      <td>Intermediate</td>\n",
       "      <td>NotBlack</td>\n",
       "      <td>NotHispanic</td>\n",
       "      <td>NotMarried</td>\n",
       "      <td>0</td>\n",
       "      <td>3175.971</td>\n",
       "      <td>5852.565</td>\n",
       "      <td>13496.080</td>\n",
       "    </tr>\n",
       "    <tr>\n",
       "      <th>2</th>\n",
       "      <td>38</td>\n",
       "      <td>HighSchool</td>\n",
       "      <td>NotBlack</td>\n",
       "      <td>NotHispanic</td>\n",
       "      <td>Married</td>\n",
       "      <td>0</td>\n",
       "      <td>23039.020</td>\n",
       "      <td>25130.760</td>\n",
       "      <td>25564.670</td>\n",
       "    </tr>\n",
       "    <tr>\n",
       "      <th>3</th>\n",
       "      <td>48</td>\n",
       "      <td>LessThanHighSchool</td>\n",
       "      <td>NotBlack</td>\n",
       "      <td>NotHispanic</td>\n",
       "      <td>Married</td>\n",
       "      <td>1</td>\n",
       "      <td>24994.370</td>\n",
       "      <td>25243.550</td>\n",
       "      <td>25564.670</td>\n",
       "    </tr>\n",
       "    <tr>\n",
       "      <th>4</th>\n",
       "      <td>18</td>\n",
       "      <td>LessThanHighSchool</td>\n",
       "      <td>NotBlack</td>\n",
       "      <td>NotHispanic</td>\n",
       "      <td>Married</td>\n",
       "      <td>1</td>\n",
       "      <td>1669.295</td>\n",
       "      <td>10727.610</td>\n",
       "      <td>9860.869</td>\n",
       "    </tr>\n",
       "  </tbody>\n",
       "</table>\n",
       "</div>"
      ],
      "text/plain": [
       "   Age          Eduacation      Race         Hisp MaritalStatus  Nodeg  \\\n",
       "0   45  LessThanHighSchool  NotBlack  NotHispanic       Married      1   \n",
       "1   21        Intermediate  NotBlack  NotHispanic    NotMarried      0   \n",
       "2   38          HighSchool  NotBlack  NotHispanic       Married      0   \n",
       "3   48  LessThanHighSchool  NotBlack  NotHispanic       Married      1   \n",
       "4   18  LessThanHighSchool  NotBlack  NotHispanic       Married      1   \n",
       "\n",
       "   Earnings_1974  Earnings_1975  Earnings_1978  \n",
       "0      21516.670      25243.550      25564.670  \n",
       "1       3175.971       5852.565      13496.080  \n",
       "2      23039.020      25130.760      25564.670  \n",
       "3      24994.370      25243.550      25564.670  \n",
       "4       1669.295      10727.610       9860.869  "
      ]
     },
     "execution_count": 2,
     "metadata": {},
     "output_type": "execute_result"
    }
   ],
   "source": [
    "#Load/preview data\n",
    "df = pd.read_csv(\"LabourTrainingEvaluationData.csv\")\n",
    "df.head()"
   ]
  },
  {
   "cell_type": "markdown",
   "metadata": {},
   "source": [
    "Part 1 - Age\n",
    "Make and plot a Hist and Pmf for age.\n",
    "What fraction of the people in the data are 51? What fraction are older than 51?\n",
    "What is the median age?\n",
    "Does the distribution of the sample data seem to mirror the working age population?"
   ]
  },
  {
   "cell_type": "code",
   "execution_count": 3,
   "metadata": {},
   "outputs": [],
   "source": [
    "agehist = thinkstats2.Hist(df['Age'], label='Age')"
   ]
  },
  {
   "cell_type": "code",
   "execution_count": 4,
   "metadata": {},
   "outputs": [
    {
     "data": {
      "image/png": "[encoded data removed]",
      "text/plain": [
       "<Figure size 432x288 with 1 Axes>"
      ]
     },
     "metadata": {
      "needs_background": "light"
     },
     "output_type": "display_data"
    }
   ],
   "source": [
    "# thinkplot.hist 適合用於資料少的直條圖\n",
    "\n",
    "thinkplot.Hist(agehist)\n",
    "thinkplot.Config(xlabel='Age', ylabel='count')\n",
    "thinkplot.axvline(np.mean(agehist), color=\"red\")"
   ]
  },
  {
   "cell_type": "markdown",
   "metadata": {},
   "source": [
    "The working population for any country is between ages 15 and 64. The mean age is about 32 - 38.The data seems to mirror the working population.\n",
    "任何國家的工作人口都在 15 至 64 歲之間。平均年齡約為 32 至 38 歲。數據似乎反映了工作人口。"
   ]
  },
  {
   "cell_type": "code",
   "execution_count": 5,
   "metadata": {},
   "outputs": [
    {
     "name": "stdout",
     "output_type": "stream",
     "text": [
      "Mean Age : 33.23\n"
     ]
    }
   ],
   "source": [
    "print(\"Mean Age : %.2f\" % np.mean(df[\"Age\"]))"
   ]
  },
  {
   "cell_type": "code",
   "execution_count": 6,
   "metadata": {},
   "outputs": [],
   "source": [
    "dfpmf_age = thinkstats2.Pmf(df[\"Age\"])"
   ]
  },
  {
   "cell_type": "code",
   "execution_count": 7,
   "metadata": {},
   "outputs": [
    {
     "data": {
      "image/png": "[encoded data removed]",
      "text/plain": [
       "<Figure size 864x432 with 1 Axes>"
      ]
     },
     "metadata": {
      "needs_background": "light"
     },
     "output_type": "display_data"
    },
    {
     "data": {
      "text/plain": [
       "<Figure size 576x432 with 0 Axes>"
      ]
     },
     "metadata": {},
     "output_type": "display_data"
    }
   ],
   "source": [
    "#Graph\n",
    "# # thinkplot.Pmf 列出連著的直條圖，適合大量資料\n",
    "\n",
    "thinkplot.PrePlot(cols=2)\n",
    "thinkplot.Pmfs([dfpmf_age])\n",
    "#thinkplot.Show(xlabel=\"Age\", ylabel = \"Percentage\")\n",
    "thinkplot.Show(xlabel=\"Age\", ylabel = \"Density\")"
   ]
  },
  {
   "cell_type": "code",
   "execution_count": 8,
   "metadata": {},
   "outputs": [
    {
     "name": "stdout",
     "output_type": "stream",
     "text": [
      "Median Age is: 31.00\n"
     ]
    }
   ],
   "source": [
    "print(\"Median Age is: %.2f\" % np.median(df[\"Age\"]))"
   ]
  },
  {
   "cell_type": "markdown",
   "metadata": {},
   "source": [
    "What fraction of the people in the data are 51? What fraction are older than 51?\n",
    "\n",
    "There are multiple ways of achieving this, I will provide three alternatives\n",
    "\n",
    "Method 1:"
   ]
  },
  {
   "cell_type": "code",
   "execution_count": 9,
   "metadata": {},
   "outputs": [
    {
     "data": {
      "text/plain": [
       "{'xscale': 'linear', 'yscale': 'linear'}"
      ]
     },
     "execution_count": 9,
     "metadata": {},
     "output_type": "execute_result"
    },
    {
     "data": {
      "image/png": "[encoded data removed]",
      "text/plain": [
       "<Figure size 432x288 with 1 Axes>"
      ]
     },
     "metadata": {
      "needs_background": "light"
     },
     "output_type": "display_data"
    }
   ],
   "source": [
    "#Create and show CDF of Age\n",
    "df_cdf = thinkstats2.Cdf(df['Age'])\n",
    "thinkplot.Cdf(df_cdf)"
   ]
  },
  {
   "cell_type": "code",
   "execution_count": 10,
   "metadata": {},
   "outputs": [
    {
     "data": {
      "text/plain": [
       "0.926775887943972"
      ]
     },
     "execution_count": 10,
     "metadata": {},
     "output_type": "execute_result"
    }
   ],
   "source": [
    "df_cdf.Prob(51)"
   ]
  },
  {
   "cell_type": "code",
   "execution_count": 11,
   "metadata": {},
   "outputs": [
    {
     "name": "stdout",
     "output_type": "stream",
     "text": [
      "Fraction of people that are 51 is: 92.7%\n"
     ]
    }
   ],
   "source": [
    "#And if we want to see in in pretty printing\n",
    "print(\"Fraction of people that are 51 is:\",str(round(df_cdf.Prob(51), 3)*100)+\"%\")"
   ]
  },
  {
   "cell_type": "markdown",
   "metadata": {},
   "source": [
    "Method 2:\n",
    "\n",
    "The method 2 shows the cumulative frequency and the percentage distribution. \n",
    "\n",
    "Fraction of people below 51 is 92.7% and the count is 14821\n",
    "\n",
    "方法2顯示了累積頻率和百分比分佈。\n",
    "\n",
    "51 歲以下人口的比例為 92.7%，總數為 14821"
   ]
  },
  {
   "cell_type": "code",
   "execution_count": 12,
   "metadata": {},
   "outputs": [
    {
     "data": {
      "text/html": [
       "<div>\n",
       "<style scoped>\n",
       "    .dataframe tbody tr th:only-of-type {\n",
       "        vertical-align: middle;\n",
       "    }\n",
       "\n",
       "    .dataframe tbody tr th {\n",
       "        vertical-align: top;\n",
       "    }\n",
       "\n",
       "    .dataframe thead th {\n",
       "        text-align: right;\n",
       "    }\n",
       "</style>\n",
       "<table border=\"1\" class=\"dataframe\">\n",
       "  <thead>\n",
       "    <tr style=\"text-align: right;\">\n",
       "      <th></th>\n",
       "      <th>counts</th>\n",
       "      <th>percent</th>\n",
       "      <th>%</th>\n",
       "      <th>cumulative freq</th>\n",
       "      <th>cumulative %</th>\n",
       "    </tr>\n",
       "    <tr>\n",
       "      <th>Age</th>\n",
       "      <th></th>\n",
       "      <th></th>\n",
       "      <th></th>\n",
       "      <th></th>\n",
       "      <th></th>\n",
       "    </tr>\n",
       "  </thead>\n",
       "  <tbody>\n",
       "    <tr>\n",
       "      <th>51</th>\n",
       "      <td>314</td>\n",
       "      <td>0.019635</td>\n",
       "      <td>2.0%</td>\n",
       "      <td>14821</td>\n",
       "      <td>92.7%</td>\n",
       "    </tr>\n",
       "    <tr>\n",
       "      <th>52</th>\n",
       "      <td>294</td>\n",
       "      <td>0.018384</td>\n",
       "      <td>1.8%</td>\n",
       "      <td>15115</td>\n",
       "      <td>94.5%</td>\n",
       "    </tr>\n",
       "    <tr>\n",
       "      <th>53</th>\n",
       "      <td>300</td>\n",
       "      <td>0.018759</td>\n",
       "      <td>1.9%</td>\n",
       "      <td>15415</td>\n",
       "      <td>96.4%</td>\n",
       "    </tr>\n",
       "    <tr>\n",
       "      <th>54</th>\n",
       "      <td>270</td>\n",
       "      <td>0.016883</td>\n",
       "      <td>1.7%</td>\n",
       "      <td>15685</td>\n",
       "      <td>98.1%</td>\n",
       "    </tr>\n",
       "    <tr>\n",
       "      <th>55</th>\n",
       "      <td>307</td>\n",
       "      <td>0.019197</td>\n",
       "      <td>1.9%</td>\n",
       "      <td>15992</td>\n",
       "      <td>100.0%</td>\n",
       "    </tr>\n",
       "  </tbody>\n",
       "</table>\n",
       "</div>"
      ],
      "text/plain": [
       "     counts   percent     %  cumulative freq cumulative %\n",
       "Age                                                      \n",
       "51      314  0.019635  2.0%            14821        92.7%\n",
       "52      294  0.018384  1.8%            15115        94.5%\n",
       "53      300  0.018759  1.9%            15415        96.4%\n",
       "54      270  0.016883  1.7%            15685        98.1%\n",
       "55      307  0.019197  1.9%            15992       100.0%"
      ]
     },
     "execution_count": 12,
     "metadata": {},
     "output_type": "execute_result"
    }
   ],
   "source": [
    "# creating a frequency table and ensuring it's sorted\n",
    "\n",
    "s = df['Age']\n",
    "counts = s.value_counts()\n",
    "percent = s.value_counts(normalize=True)\n",
    "percent100 = s.value_counts(normalize=True).mul(100).round(1).astype(str) + '%'\n",
    "df_freq1= pd.DataFrame({'counts': counts, 'percent': percent, '%': percent100})\n",
    "df_freq2 = df_freq1.sort_index () # making sure the date is sorted\n",
    "df_freq2.index.name = 'Age' # renaming the index cloumn name to age\n",
    "df_freq2[\"cumulative freq\"]= df_freq2['counts'].cumsum()\n",
    "df_freq2[\"cumulative %\"]= df_freq2['percent'].cumsum().mul(100).round(1).astype(str) + '%'\n",
    "df_freq2.tail()"
   ]
  },
  {
   "cell_type": "markdown",
   "metadata": {},
   "source": [
    "Method 3:"
   ]
  },
  {
   "cell_type": "code",
   "execution_count": 13,
   "metadata": {},
   "outputs": [
    {
     "data": {
      "text/plain": [
       "pandas.core.series.Series"
      ]
     },
     "execution_count": 13,
     "metadata": {},
     "output_type": "execute_result"
    }
   ],
   "source": [
    "# using .loc and lamba for slicing is efficient\n",
    "df_1 = df['Age'].loc[lambda x : x<=51] #putting Age in pandas series\n",
    "type(df_1)"
   ]
  },
  {
   "cell_type": "code",
   "execution_count": 14,
   "metadata": {},
   "outputs": [
    {
     "data": {
      "text/plain": [
       "0    45\n",
       "1    21\n",
       "2    38\n",
       "3    48\n",
       "4    18\n",
       "Name: Age, dtype: int64"
      ]
     },
     "execution_count": 14,
     "metadata": {},
     "output_type": "execute_result"
    }
   ],
   "source": [
    "df_1.head()"
   ]
  },
  {
   "cell_type": "code",
   "execution_count": 15,
   "metadata": {},
   "outputs": [
    {
     "name": "stdout",
     "output_type": "stream",
     "text": [
      "(15992, 9)\n",
      "(14821,)\n"
     ]
    }
   ],
   "source": [
    "print(df.shape, df_1.shape,sep=\"\\n\")"
   ]
  },
  {
   "cell_type": "code",
   "execution_count": 16,
   "metadata": {},
   "outputs": [
    {
     "name": "stdout",
     "output_type": "stream",
     "text": [
      "Share of people 51 and below is: 0.9268\n"
     ]
    }
   ],
   "source": [
    "print(\"Share of people 51 and below is: %.4f\" %((df_1.shape[0]/df.shape[0])))"
   ]
  },
  {
   "cell_type": "code",
   "execution_count": 17,
   "metadata": {},
   "outputs": [
    {
     "name": "stdout",
     "output_type": "stream",
     "text": [
      "Total number of people 51 and below: 14821\n"
     ]
    }
   ],
   "source": [
    "print('Total number of people 51 and below:',df_1.count())"
   ]
  },
  {
   "cell_type": "code",
   "execution_count": 18,
   "metadata": {},
   "outputs": [
    {
     "data": {
      "text/plain": [
       "pandas.core.series.Series"
      ]
     },
     "execution_count": 18,
     "metadata": {},
     "output_type": "execute_result"
    }
   ],
   "source": [
    "# using .loc and lamba for slicing is efficient\n",
    "df_2 = df['Age'].loc[lambda x : x>51]\n",
    "type(df_2)"
   ]
  },
  {
   "cell_type": "code",
   "execution_count": 19,
   "metadata": {},
   "outputs": [
    {
     "data": {
      "text/plain": [
       "12    53\n",
       "43    54\n",
       "52    52\n",
       "53    54\n",
       "62    55\n",
       "Name: Age, dtype: int64"
      ]
     },
     "execution_count": 19,
     "metadata": {},
     "output_type": "execute_result"
    }
   ],
   "source": [
    "df_2.head()"
   ]
  },
  {
   "cell_type": "code",
   "execution_count": 20,
   "metadata": {},
   "outputs": [
    {
     "name": "stdout",
     "output_type": "stream",
     "text": [
      "(15992, 9)\n",
      "(14821,)\n",
      "(1171,)\n"
     ]
    }
   ],
   "source": [
    "# checking the shape is similar to counting rows and columns:\n",
    "\n",
    "print(df.shape, df_1.shape, df_2.shape,sep=\"\\n\")"
   ]
  },
  {
   "cell_type": "code",
   "execution_count": 21,
   "metadata": {},
   "outputs": [
    {
     "name": "stdout",
     "output_type": "stream",
     "text": [
      "Total number of people above 51: 1171\n"
     ]
    }
   ],
   "source": [
    "print('Total number of people above 51:',df_2.count())"
   ]
  },
  {
   "cell_type": "code",
   "execution_count": 22,
   "metadata": {},
   "outputs": [
    {
     "name": "stdout",
     "output_type": "stream",
     "text": [
      "Share of people older than 51 is: 0.0732\n"
     ]
    }
   ],
   "source": [
    "# %>51 in the dataset\n",
    "\n",
    "print(\"Share of people older than 51 is: %.4f\" %((df_2.shape[0]/df.shape[0])))"
   ]
  },
  {
   "cell_type": "markdown",
   "metadata": {},
   "source": [
    "Part 2 - Demographics\n",
    "\n",
    "Consider some of the demographic features:\n",
    "Education\n",
    "Race\n",
    "Hisp\n",
    "MaritalStatus\n",
    "Nodeg.\n",
    "\n",
    "This data came from the United States, does it appear to be a representative sample of the US population?\n",
    "Demonstrate this in some way in your code.\n",
    "Exploring the data..."
   ]
  },
  {
   "cell_type": "code",
   "execution_count": 23,
   "metadata": {},
   "outputs": [
    {
     "data": {
      "text/html": [
       "<div>\n",
       "<style scoped>\n",
       "    .dataframe tbody tr th:only-of-type {\n",
       "        vertical-align: middle;\n",
       "    }\n",
       "\n",
       "    .dataframe tbody tr th {\n",
       "        vertical-align: top;\n",
       "    }\n",
       "\n",
       "    .dataframe thead th {\n",
       "        text-align: right;\n",
       "    }\n",
       "</style>\n",
       "<table border=\"1\" class=\"dataframe\">\n",
       "  <thead>\n",
       "    <tr style=\"text-align: right;\">\n",
       "      <th></th>\n",
       "      <th>Age</th>\n",
       "      <th>Eduacation</th>\n",
       "      <th>Race</th>\n",
       "      <th>Hisp</th>\n",
       "      <th>MaritalStatus</th>\n",
       "      <th>Nodeg</th>\n",
       "      <th>Earnings_1974</th>\n",
       "      <th>Earnings_1975</th>\n",
       "      <th>Earnings_1978</th>\n",
       "    </tr>\n",
       "  </thead>\n",
       "  <tbody>\n",
       "    <tr>\n",
       "      <th>0</th>\n",
       "      <td>45</td>\n",
       "      <td>LessThanHighSchool</td>\n",
       "      <td>NotBlack</td>\n",
       "      <td>NotHispanic</td>\n",
       "      <td>Married</td>\n",
       "      <td>1</td>\n",
       "      <td>21516.670</td>\n",
       "      <td>25243.550</td>\n",
       "      <td>25564.670</td>\n",
       "    </tr>\n",
       "    <tr>\n",
       "      <th>1</th>\n",
       "      <td>21</td>\n",
       "      <td>Intermediate</td>\n",
       "      <td>NotBlack</td>\n",
       "      <td>NotHispanic</td>\n",
       "      <td>NotMarried</td>\n",
       "      <td>0</td>\n",
       "      <td>3175.971</td>\n",
       "      <td>5852.565</td>\n",
       "      <td>13496.080</td>\n",
       "    </tr>\n",
       "    <tr>\n",
       "      <th>2</th>\n",
       "      <td>38</td>\n",
       "      <td>HighSchool</td>\n",
       "      <td>NotBlack</td>\n",
       "      <td>NotHispanic</td>\n",
       "      <td>Married</td>\n",
       "      <td>0</td>\n",
       "      <td>23039.020</td>\n",
       "      <td>25130.760</td>\n",
       "      <td>25564.670</td>\n",
       "    </tr>\n",
       "    <tr>\n",
       "      <th>3</th>\n",
       "      <td>48</td>\n",
       "      <td>LessThanHighSchool</td>\n",
       "      <td>NotBlack</td>\n",
       "      <td>NotHispanic</td>\n",
       "      <td>Married</td>\n",
       "      <td>1</td>\n",
       "      <td>24994.370</td>\n",
       "      <td>25243.550</td>\n",
       "      <td>25564.670</td>\n",
       "    </tr>\n",
       "    <tr>\n",
       "      <th>4</th>\n",
       "      <td>18</td>\n",
       "      <td>LessThanHighSchool</td>\n",
       "      <td>NotBlack</td>\n",
       "      <td>NotHispanic</td>\n",
       "      <td>Married</td>\n",
       "      <td>1</td>\n",
       "      <td>1669.295</td>\n",
       "      <td>10727.610</td>\n",
       "      <td>9860.869</td>\n",
       "    </tr>\n",
       "  </tbody>\n",
       "</table>\n",
       "</div>"
      ],
      "text/plain": [
       "   Age          Eduacation      Race         Hisp MaritalStatus  Nodeg  \\\n",
       "0   45  LessThanHighSchool  NotBlack  NotHispanic       Married      1   \n",
       "1   21        Intermediate  NotBlack  NotHispanic    NotMarried      0   \n",
       "2   38          HighSchool  NotBlack  NotHispanic       Married      0   \n",
       "3   48  LessThanHighSchool  NotBlack  NotHispanic       Married      1   \n",
       "4   18  LessThanHighSchool  NotBlack  NotHispanic       Married      1   \n",
       "\n",
       "   Earnings_1974  Earnings_1975  Earnings_1978  \n",
       "0      21516.670      25243.550      25564.670  \n",
       "1       3175.971       5852.565      13496.080  \n",
       "2      23039.020      25130.760      25564.670  \n",
       "3      24994.370      25243.550      25564.670  \n",
       "4       1669.295      10727.610       9860.869  "
      ]
     },
     "execution_count": 23,
     "metadata": {},
     "output_type": "execute_result"
    }
   ],
   "source": [
    "df.head()"
   ]
  },
  {
   "cell_type": "code",
   "execution_count": 24,
   "metadata": {},
   "outputs": [
    {
     "name": "stdout",
     "output_type": "stream",
     "text": [
      "NotBlack    14816\n",
      "black        1176\n",
      "Name: Race, dtype: int64\n",
      "NotHispanic    14840\n",
      "hispanic        1152\n",
      "Name: Hisp, dtype: int64\n"
     ]
    }
   ],
   "source": [
    "# check for consistencies in Race data\n",
    "# # 檢查 Race 數據的一致性\n",
    "\n",
    "print(df[\"Race\"].value_counts(), df[\"Hisp\"].value_counts(),sep=\"\\n\")"
   ]
  },
  {
   "cell_type": "markdown",
   "metadata": {},
   "source": [
    "I will try to regroup the race into three : NotHispanicNotBlack, Hispanic and black.\n",
    "\n",
    "The column Race and Hisp gives two categories, whether black or not and hispanic or NotHispanic. \n",
    "\n",
    "Though, there are other different races in America. if you are notblack, you msut be white, hispanic or other races vice versa. \n",
    "\n",
    "so, the rows with 'NotBlack' and 'NotHispanic' will be NotBlackNotHispanic in the new column(Races). \n",
    "\n",
    "Also, if Race is black and Hisp is NotHispanic, then Races will be black and if Hisp is hipanic and Race is Notblack, then Races will be NotBlackNotHispanic"
   ]
  },
  {
   "cell_type": "markdown",
   "metadata": {},
   "source": [
    "我將嘗試將比賽重新組合為三個：NotHipanicNotBlack、西班牙裔和黑人。\n",
    "\n",
    "Race and Hisp 列給出了兩個類別，無論是黑人與否，西班牙裔或非西班牙裔。\n",
    "\n",
    "不過，美國還有其他不同的種族。 如果你不是黑人，你必須是白人、西班牙裔或其他種族，反之亦然。\n",
    "\n",
    "因此，帶有“NotBlack”和“NotHispanic”的行將在新列（Races）中為 NotBlackNotHispanic。\n",
    "\n",
    "此外，如果 Race 是黑人而 Hisp 是 NotHispanic，那麼 Races 將是黑人，如果 Hisp 是 hipanic 而 Race 是 Notblack，那麼 Races 將是 NotBlackNotHispanic"
   ]
  },
  {
   "cell_type": "code",
   "execution_count": 25,
   "metadata": {},
   "outputs": [],
   "source": [
    "df['Races'] = '' # create an empty string column\n",
    "df.loc[((df['Hisp'] ==\"NotHispanic\") & (df['Race']=='NotBlack')), 'Races'] = \"NotBlackNotHispanic\"\n",
    "df.loc[((df['Hisp'] ==\"hispanic\") & (df['Race']=='NotBlack')), 'Races'] = \"hispanic\"\n",
    "df.loc[(df['Race']=='black'), 'Races'] = \"black\""
   ]
  },
  {
   "cell_type": "code",
   "execution_count": 26,
   "metadata": {},
   "outputs": [
    {
     "data": {
      "text/plain": [
       "NotBlackNotHispanic    13664\n",
       "black                   1176\n",
       "hispanic                1152\n",
       "Name: Races, dtype: int64"
      ]
     },
     "execution_count": 26,
     "metadata": {},
     "output_type": "execute_result"
    }
   ],
   "source": [
    "df[\"Races\"].value_counts()"
   ]
  },
  {
   "cell_type": "markdown",
   "metadata": {},
   "source": [
    "The black population is about 13% and Hispanic population is about 16% with the majority white about 62%. The data does not reflect the US population distribution but has some pattern that is consistent with US population.\n",
    "\n",
    "黑人人口約佔 13%，西班牙裔人口約佔 16%，白人約佔 62%。 該數據不反映美國人口分佈，但有一些與美國人口一致的模式。"
   ]
  },
  {
   "cell_type": "code",
   "execution_count": 27,
   "metadata": {},
   "outputs": [
    {
     "data": {
      "text/plain": [
       "NotBlackNotHispanic    85.4%\n",
       "black                   7.4%\n",
       "hispanic                7.2%\n",
       "Name: Races, dtype: object"
      ]
     },
     "execution_count": 27,
     "metadata": {},
     "output_type": "execute_result"
    }
   ],
   "source": [
    "Race = df[\"Races\"].value_counts(normalize=True).mul(100).round(1).astype(str) + '%'\n",
    "Race"
   ]
  },
  {
   "cell_type": "code",
   "execution_count": 28,
   "metadata": {},
   "outputs": [],
   "source": [
    "# There column 'Races' now have 3 races: NotBlackNotHispanic(i.e whites and other races), \n",
    "# black and hispanic. The data can be grouped by their different demographic characteristics\n",
    "\n",
    "df_Races = df.groupby(\"Races\")\n",
    "df_MaritalStatus = df.groupby(\"MaritalStatus\")\n",
    "df_Education = df.groupby(\"Eduacation\")\n",
    "df_Nodeg = df.groupby(\"Nodeg\")"
   ]
  },
  {
   "cell_type": "code",
   "execution_count": 29,
   "metadata": {},
   "outputs": [
    {
     "data": {
      "text/html": [
       "<div>\n",
       "<style scoped>\n",
       "    .dataframe tbody tr th:only-of-type {\n",
       "        vertical-align: middle;\n",
       "    }\n",
       "\n",
       "    .dataframe tbody tr th {\n",
       "        vertical-align: top;\n",
       "    }\n",
       "\n",
       "    .dataframe thead th {\n",
       "        text-align: right;\n",
       "    }\n",
       "</style>\n",
       "<table border=\"1\" class=\"dataframe\">\n",
       "  <thead>\n",
       "    <tr style=\"text-align: right;\">\n",
       "      <th></th>\n",
       "      <th>max</th>\n",
       "      <th>min</th>\n",
       "      <th>count</th>\n",
       "      <th>median</th>\n",
       "      <th>mean</th>\n",
       "    </tr>\n",
       "    <tr>\n",
       "      <th>Races</th>\n",
       "      <th></th>\n",
       "      <th></th>\n",
       "      <th></th>\n",
       "      <th></th>\n",
       "      <th></th>\n",
       "    </tr>\n",
       "  </thead>\n",
       "  <tbody>\n",
       "    <tr>\n",
       "      <th>NotBlackNotHispanic</th>\n",
       "      <td>25862.32</td>\n",
       "      <td>0.0</td>\n",
       "      <td>13664</td>\n",
       "      <td>15881.820</td>\n",
       "      <td>14375.900117</td>\n",
       "    </tr>\n",
       "    <tr>\n",
       "      <th>black</th>\n",
       "      <td>25862.32</td>\n",
       "      <td>0.0</td>\n",
       "      <td>1176</td>\n",
       "      <td>11079.650</td>\n",
       "      <td>11426.576987</td>\n",
       "    </tr>\n",
       "    <tr>\n",
       "      <th>hispanic</th>\n",
       "      <td>25862.32</td>\n",
       "      <td>0.0</td>\n",
       "      <td>1152</td>\n",
       "      <td>12668.615</td>\n",
       "      <td>12401.663826</td>\n",
       "    </tr>\n",
       "  </tbody>\n",
       "</table>\n",
       "</div>"
      ],
      "text/plain": [
       "                          max  min  count     median          mean\n",
       "Races                                                             \n",
       "NotBlackNotHispanic  25862.32  0.0  13664  15881.820  14375.900117\n",
       "black                25862.32  0.0   1176  11079.650  11426.576987\n",
       "hispanic             25862.32  0.0   1152  12668.615  12401.663826"
      ]
     },
     "execution_count": 29,
     "metadata": {},
     "output_type": "execute_result"
    }
   ],
   "source": [
    "# check the newly created group dataframe\n",
    "# 西班牙裔比黑人掙得更多\n",
    "# df_Races = df.groupby(\"Races\")\n",
    "df_Races.Earnings_1974.agg(['max', 'min', 'count', 'median', 'mean'])"
   ]
  },
  {
   "cell_type": "markdown",
   "metadata": {},
   "source": [
    "Although the data has same maximum and minimum values for all races, it however shows that NotBlackNotHispanic (mean Earning in 1974 = 12401.663826) and black( mean Earning in 1974 = $11426.578). The hispanic however earn more than the blacks"
   ]
  },
  {
   "cell_type": "code",
   "execution_count": 30,
   "metadata": {},
   "outputs": [
    {
     "data": {
      "text/html": [
       "<div>\n",
       "<style scoped>\n",
       "    .dataframe tbody tr th:only-of-type {\n",
       "        vertical-align: middle;\n",
       "    }\n",
       "\n",
       "    .dataframe tbody tr th {\n",
       "        vertical-align: top;\n",
       "    }\n",
       "\n",
       "    .dataframe thead th {\n",
       "        text-align: right;\n",
       "    }\n",
       "</style>\n",
       "<table border=\"1\" class=\"dataframe\">\n",
       "  <thead>\n",
       "    <tr style=\"text-align: right;\">\n",
       "      <th></th>\n",
       "      <th>max</th>\n",
       "      <th>min</th>\n",
       "      <th>count</th>\n",
       "      <th>median</th>\n",
       "      <th>mean</th>\n",
       "    </tr>\n",
       "    <tr>\n",
       "      <th>Eduacation</th>\n",
       "      <th></th>\n",
       "      <th></th>\n",
       "      <th></th>\n",
       "      <th></th>\n",
       "      <th></th>\n",
       "    </tr>\n",
       "  </thead>\n",
       "  <tbody>\n",
       "    <tr>\n",
       "      <th>HighSchool</th>\n",
       "      <td>25243.55</td>\n",
       "      <td>0.0</td>\n",
       "      <td>6252</td>\n",
       "      <td>15991.16</td>\n",
       "      <td>14715.210287</td>\n",
       "    </tr>\n",
       "    <tr>\n",
       "      <th>Intermediate</th>\n",
       "      <td>25243.55</td>\n",
       "      <td>0.0</td>\n",
       "      <td>2708</td>\n",
       "      <td>14660.95</td>\n",
       "      <td>13831.999546</td>\n",
       "    </tr>\n",
       "    <tr>\n",
       "      <th>LessThanHighSchool</th>\n",
       "      <td>25243.55</td>\n",
       "      <td>0.0</td>\n",
       "      <td>4731</td>\n",
       "      <td>10727.61</td>\n",
       "      <td>11128.144656</td>\n",
       "    </tr>\n",
       "    <tr>\n",
       "      <th>PostGraduate</th>\n",
       "      <td>25243.55</td>\n",
       "      <td>0.0</td>\n",
       "      <td>934</td>\n",
       "      <td>18998.90</td>\n",
       "      <td>14965.138316</td>\n",
       "    </tr>\n",
       "    <tr>\n",
       "      <th>graduate</th>\n",
       "      <td>25243.55</td>\n",
       "      <td>0.0</td>\n",
       "      <td>1367</td>\n",
       "      <td>19113.48</td>\n",
       "      <td>16256.332516</td>\n",
       "    </tr>\n",
       "  </tbody>\n",
       "</table>\n",
       "</div>"
      ],
      "text/plain": [
       "                         max  min  count    median          mean\n",
       "Eduacation                                                      \n",
       "HighSchool          25243.55  0.0   6252  15991.16  14715.210287\n",
       "Intermediate        25243.55  0.0   2708  14660.95  13831.999546\n",
       "LessThanHighSchool  25243.55  0.0   4731  10727.61  11128.144656\n",
       "PostGraduate        25243.55  0.0    934  18998.90  14965.138316\n",
       "graduate            25243.55  0.0   1367  19113.48  16256.332516"
      ]
     },
     "execution_count": 30,
     "metadata": {},
     "output_type": "execute_result"
    }
   ],
   "source": [
    "# df_Education = df.groupby(\"Eduacation\")\n",
    "df_Education.Earnings_1975.agg(['max', 'min', 'count', 'median', 'mean'])"
   ]
  },
  {
   "cell_type": "markdown",
   "metadata": {},
   "source": [
    "It is obvious that the data has some outliers, with the maximum value for earnings and even minimum. It has same values for max for all categories of eductaion\n",
    "\n",
    "Considering Earnings with some demographic characteristics shows that the data has been influenced by outliers. Especially, the maximum and minimum earnings.\n",
    "\n",
    "很明顯，數據存在一些異常值，收益值最大，甚至最小。 對於所有教育類別，它具有相同的最大值\n",
    "\n",
    "考慮具有某些人口統計特徵的收入表明數據受到異常值的影響。 特別是最高和最低收益。"
   ]
  },
  {
   "cell_type": "code",
   "execution_count": 31,
   "metadata": {},
   "outputs": [
    {
     "data": {
      "text/html": [
       "<div>\n",
       "<style scoped>\n",
       "    .dataframe tbody tr th:only-of-type {\n",
       "        vertical-align: middle;\n",
       "    }\n",
       "\n",
       "    .dataframe tbody tr th {\n",
       "        vertical-align: top;\n",
       "    }\n",
       "\n",
       "    .dataframe thead th {\n",
       "        text-align: right;\n",
       "    }\n",
       "</style>\n",
       "<table border=\"1\" class=\"dataframe\">\n",
       "  <thead>\n",
       "    <tr style=\"text-align: right;\">\n",
       "      <th></th>\n",
       "      <th>max</th>\n",
       "      <th>min</th>\n",
       "      <th>count</th>\n",
       "      <th>median</th>\n",
       "      <th>mean</th>\n",
       "    </tr>\n",
       "    <tr>\n",
       "      <th>MaritalStatus</th>\n",
       "      <th></th>\n",
       "      <th></th>\n",
       "      <th></th>\n",
       "      <th></th>\n",
       "      <th></th>\n",
       "    </tr>\n",
       "  </thead>\n",
       "  <tbody>\n",
       "    <tr>\n",
       "      <th>Married</th>\n",
       "      <td>25564.67</td>\n",
       "      <td>0.0</td>\n",
       "      <td>11382</td>\n",
       "      <td>19664.850</td>\n",
       "      <td>16390.997167</td>\n",
       "    </tr>\n",
       "    <tr>\n",
       "      <th>NotMarried</th>\n",
       "      <td>25564.67</td>\n",
       "      <td>0.0</td>\n",
       "      <td>4610</td>\n",
       "      <td>9982.043</td>\n",
       "      <td>11033.720550</td>\n",
       "    </tr>\n",
       "  </tbody>\n",
       "</table>\n",
       "</div>"
      ],
      "text/plain": [
       "                    max  min  count     median          mean\n",
       "MaritalStatus                                               \n",
       "Married        25564.67  0.0  11382  19664.850  16390.997167\n",
       "NotMarried     25564.67  0.0   4610   9982.043  11033.720550"
      ]
     },
     "execution_count": 31,
     "metadata": {},
     "output_type": "execute_result"
    }
   ],
   "source": [
    "# df_MaritalStatus = df.groupby(\"MaritalStatus\")\n",
    "df_MaritalStatus.Earnings_1978.agg(['max', 'min', 'count', 'median', 'mean'])"
   ]
  },
  {
   "cell_type": "code",
   "execution_count": 32,
   "metadata": {},
   "outputs": [
    {
     "data": {
      "text/html": [
       "<div>\n",
       "<style scoped>\n",
       "    .dataframe tbody tr th:only-of-type {\n",
       "        vertical-align: middle;\n",
       "    }\n",
       "\n",
       "    .dataframe tbody tr th {\n",
       "        vertical-align: top;\n",
       "    }\n",
       "\n",
       "    .dataframe thead th {\n",
       "        text-align: right;\n",
       "    }\n",
       "</style>\n",
       "<table border=\"1\" class=\"dataframe\">\n",
       "  <thead>\n",
       "    <tr style=\"text-align: right;\">\n",
       "      <th></th>\n",
       "      <th>max</th>\n",
       "      <th>min</th>\n",
       "      <th>count</th>\n",
       "      <th>median</th>\n",
       "      <th>mean</th>\n",
       "    </tr>\n",
       "    <tr>\n",
       "      <th>Nodeg</th>\n",
       "      <th></th>\n",
       "      <th></th>\n",
       "      <th></th>\n",
       "      <th></th>\n",
       "      <th></th>\n",
       "    </tr>\n",
       "  </thead>\n",
       "  <tbody>\n",
       "    <tr>\n",
       "      <th>0</th>\n",
       "      <td>25862.32</td>\n",
       "      <td>0.0</td>\n",
       "      <td>11261</td>\n",
       "      <td>16741.93</td>\n",
       "      <td>15032.593755</td>\n",
       "    </tr>\n",
       "    <tr>\n",
       "      <th>1</th>\n",
       "      <td>25862.32</td>\n",
       "      <td>0.0</td>\n",
       "      <td>4731</td>\n",
       "      <td>11397.05</td>\n",
       "      <td>11598.949946</td>\n",
       "    </tr>\n",
       "  </tbody>\n",
       "</table>\n",
       "</div>"
      ],
      "text/plain": [
       "            max  min  count    median          mean\n",
       "Nodeg                                              \n",
       "0      25862.32  0.0  11261  16741.93  15032.593755\n",
       "1      25862.32  0.0   4731  11397.05  11598.949946"
      ]
     },
     "execution_count": 32,
     "metadata": {},
     "output_type": "execute_result"
    }
   ],
   "source": [
    "# df_Nodeg = df.groupby(\"Nodeg\")\n",
    "df_Nodeg.Earnings_1974.agg(['max', 'min', 'count', 'median', 'mean'])"
   ]
  },
  {
   "cell_type": "markdown",
   "metadata": {},
   "source": [
    "Demographic Conclusion\n",
    "Before further exploration, I will like to remove the outliers"
   ]
  },
  {
   "cell_type": "code",
   "execution_count": 33,
   "metadata": {},
   "outputs": [
    {
     "data": {
      "text/html": [
       "<div>\n",
       "<style scoped>\n",
       "    .dataframe tbody tr th:only-of-type {\n",
       "        vertical-align: middle;\n",
       "    }\n",
       "\n",
       "    .dataframe tbody tr th {\n",
       "        vertical-align: top;\n",
       "    }\n",
       "\n",
       "    .dataframe thead th {\n",
       "        text-align: right;\n",
       "    }\n",
       "</style>\n",
       "<table border=\"1\" class=\"dataframe\">\n",
       "  <thead>\n",
       "    <tr style=\"text-align: right;\">\n",
       "      <th></th>\n",
       "      <th>Age</th>\n",
       "      <th>Eduacation</th>\n",
       "      <th>Race</th>\n",
       "      <th>Hisp</th>\n",
       "      <th>MaritalStatus</th>\n",
       "      <th>Nodeg</th>\n",
       "      <th>Earnings_1974</th>\n",
       "      <th>Earnings_1975</th>\n",
       "      <th>Earnings_1978</th>\n",
       "      <th>Races</th>\n",
       "    </tr>\n",
       "  </thead>\n",
       "  <tbody>\n",
       "    <tr>\n",
       "      <th>0</th>\n",
       "      <td>45</td>\n",
       "      <td>LessThanHighSchool</td>\n",
       "      <td>NotBlack</td>\n",
       "      <td>NotHispanic</td>\n",
       "      <td>Married</td>\n",
       "      <td>1</td>\n",
       "      <td>21516.670</td>\n",
       "      <td>25243.550</td>\n",
       "      <td>25564.670</td>\n",
       "      <td>NotBlackNotHispanic</td>\n",
       "    </tr>\n",
       "    <tr>\n",
       "      <th>1</th>\n",
       "      <td>21</td>\n",
       "      <td>Intermediate</td>\n",
       "      <td>NotBlack</td>\n",
       "      <td>NotHispanic</td>\n",
       "      <td>NotMarried</td>\n",
       "      <td>0</td>\n",
       "      <td>3175.971</td>\n",
       "      <td>5852.565</td>\n",
       "      <td>13496.080</td>\n",
       "      <td>NotBlackNotHispanic</td>\n",
       "    </tr>\n",
       "    <tr>\n",
       "      <th>2</th>\n",
       "      <td>38</td>\n",
       "      <td>HighSchool</td>\n",
       "      <td>NotBlack</td>\n",
       "      <td>NotHispanic</td>\n",
       "      <td>Married</td>\n",
       "      <td>0</td>\n",
       "      <td>23039.020</td>\n",
       "      <td>25130.760</td>\n",
       "      <td>25564.670</td>\n",
       "      <td>NotBlackNotHispanic</td>\n",
       "    </tr>\n",
       "    <tr>\n",
       "      <th>3</th>\n",
       "      <td>48</td>\n",
       "      <td>LessThanHighSchool</td>\n",
       "      <td>NotBlack</td>\n",
       "      <td>NotHispanic</td>\n",
       "      <td>Married</td>\n",
       "      <td>1</td>\n",
       "      <td>24994.370</td>\n",
       "      <td>25243.550</td>\n",
       "      <td>25564.670</td>\n",
       "      <td>NotBlackNotHispanic</td>\n",
       "    </tr>\n",
       "    <tr>\n",
       "      <th>4</th>\n",
       "      <td>18</td>\n",
       "      <td>LessThanHighSchool</td>\n",
       "      <td>NotBlack</td>\n",
       "      <td>NotHispanic</td>\n",
       "      <td>Married</td>\n",
       "      <td>1</td>\n",
       "      <td>1669.295</td>\n",
       "      <td>10727.610</td>\n",
       "      <td>9860.869</td>\n",
       "      <td>NotBlackNotHispanic</td>\n",
       "    </tr>\n",
       "  </tbody>\n",
       "</table>\n",
       "</div>"
      ],
      "text/plain": [
       "   Age          Eduacation      Race         Hisp MaritalStatus  Nodeg  \\\n",
       "0   45  LessThanHighSchool  NotBlack  NotHispanic       Married      1   \n",
       "1   21        Intermediate  NotBlack  NotHispanic    NotMarried      0   \n",
       "2   38          HighSchool  NotBlack  NotHispanic       Married      0   \n",
       "3   48  LessThanHighSchool  NotBlack  NotHispanic       Married      1   \n",
       "4   18  LessThanHighSchool  NotBlack  NotHispanic       Married      1   \n",
       "\n",
       "   Earnings_1974  Earnings_1975  Earnings_1978                Races  \n",
       "0      21516.670      25243.550      25564.670  NotBlackNotHispanic  \n",
       "1       3175.971       5852.565      13496.080  NotBlackNotHispanic  \n",
       "2      23039.020      25130.760      25564.670  NotBlackNotHispanic  \n",
       "3      24994.370      25243.550      25564.670  NotBlackNotHispanic  \n",
       "4       1669.295      10727.610       9860.869  NotBlackNotHispanic  "
      ]
     },
     "execution_count": 33,
     "metadata": {},
     "output_type": "execute_result"
    }
   ],
   "source": [
    "# Average Income of different race in 1978\n",
    "df.head()"
   ]
  },
  {
   "cell_type": "code",
   "execution_count": 34,
   "metadata": {},
   "outputs": [
    {
     "name": "stdout",
     "output_type": "stream",
     "text": [
      "                 Races  Earnings_1978\n",
      "0  NotBlackNotHispanic   15213.330607\n",
      "1                black   12006.682951\n",
      "2             hispanic   13396.677888\n"
     ]
    }
   ],
   "source": [
    "df_Inc= df.groupby(['Races'],as_index=False).Earnings_1978.mean()\n",
    "print(df_Inc)"
   ]
  },
  {
   "cell_type": "code",
   "execution_count": 35,
   "metadata": {},
   "outputs": [
    {
     "name": "stdout",
     "output_type": "stream",
     "text": [
      "                  Races          Eduacation  Earnings_1978\n",
      "0   NotBlackNotHispanic          HighSchool   15819.656292\n",
      "1   NotBlackNotHispanic        Intermediate   15546.470819\n",
      "2   NotBlackNotHispanic  LessThanHighSchool   12877.008660\n",
      "3   NotBlackNotHispanic        PostGraduate   16509.385779\n",
      "4   NotBlackNotHispanic            graduate   17698.571191\n",
      "5                 black          HighSchool   12938.735144\n",
      "6                 black        Intermediate   12660.876775\n",
      "7                 black  LessThanHighSchool   10664.903237\n",
      "8                 black        PostGraduate   15748.586935\n",
      "9                 black            graduate   13616.426392\n",
      "10             hispanic          HighSchool   14385.919056\n",
      "11             hispanic        Intermediate   14687.559769\n",
      "12             hispanic  LessThanHighSchool   12468.019784\n",
      "13             hispanic        PostGraduate   12859.961546\n",
      "14             hispanic            graduate   15459.059333\n"
     ]
    }
   ],
   "source": [
    "# Earning differences by Education categories of differen race in 1978\n",
    "df_2 = df.groupby(['Races','Eduacation'],as_index=False).Earnings_1978.mean()\n",
    "print(df_2)"
   ]
  },
  {
   "cell_type": "code",
   "execution_count": 36,
   "metadata": {},
   "outputs": [
    {
     "name": "stdout",
     "output_type": "stream",
     "text": [
      "                 Races MaritalStatus  Earnings_1978\n",
      "0  NotBlackNotHispanic       Married   16741.502728\n",
      "1  NotBlackNotHispanic    NotMarried   11319.289312\n",
      "2                black       Married   13728.471118\n",
      "3                black    NotMarried    9198.666009\n",
      "4             hispanic       Married   14607.033379\n",
      "5             hispanic    NotMarried   10138.028490\n"
     ]
    }
   ],
   "source": [
    "# Earning differences by MaritalStatus of different race in 1978\n",
    "df_3 = df.groupby(['Races','MaritalStatus'],as_index=False).Earnings_1978.mean()\n",
    "print(df_3)"
   ]
  },
  {
   "cell_type": "code",
   "execution_count": 37,
   "metadata": {},
   "outputs": [
    {
     "data": {
      "image/png": "[encoded data removed]",
      "text/plain": [
       "<Figure size 432x288 with 1 Axes>"
      ]
     },
     "metadata": {
      "needs_background": "light"
     },
     "output_type": "display_data"
    }
   ],
   "source": [
    "df_Earn78 = thinkstats2.Hist(round(df['Earnings_1978'],-3), label='Earning')\n",
    "\n",
    "#Graph\n",
    "# The outliiers are visible and between the two ends( 0 and above 25,0000). \n",
    "# I will try and look for the outliers and remove them.\n",
    "\n",
    "thinkplot.Hist(df_Earn78)\n",
    "thinkplot.Config(xlabel='Earning_1978', ylabel='count')\n",
    "thinkplot.axvline(np.mean(df_Earn78), color=\"red\")"
   ]
  },
  {
   "cell_type": "code",
   "execution_count": 38,
   "metadata": {},
   "outputs": [
    {
     "data": {
      "text/html": [
       "<div>\n",
       "<style scoped>\n",
       "    .dataframe tbody tr th:only-of-type {\n",
       "        vertical-align: middle;\n",
       "    }\n",
       "\n",
       "    .dataframe tbody tr th {\n",
       "        vertical-align: top;\n",
       "    }\n",
       "\n",
       "    .dataframe thead th {\n",
       "        text-align: right;\n",
       "    }\n",
       "</style>\n",
       "<table border=\"1\" class=\"dataframe\">\n",
       "  <thead>\n",
       "    <tr style=\"text-align: right;\">\n",
       "      <th></th>\n",
       "      <th>Age</th>\n",
       "      <th>Eduacation</th>\n",
       "      <th>Race</th>\n",
       "      <th>Hisp</th>\n",
       "      <th>MaritalStatus</th>\n",
       "      <th>Nodeg</th>\n",
       "      <th>Earnings_1974</th>\n",
       "      <th>Earnings_1975</th>\n",
       "      <th>Earnings_1978</th>\n",
       "      <th>Races</th>\n",
       "    </tr>\n",
       "  </thead>\n",
       "  <tbody>\n",
       "    <tr>\n",
       "      <th>40</th>\n",
       "      <td>21</td>\n",
       "      <td>HighSchool</td>\n",
       "      <td>NotBlack</td>\n",
       "      <td>hispanic</td>\n",
       "      <td>NotMarried</td>\n",
       "      <td>0</td>\n",
       "      <td>0.00</td>\n",
       "      <td>0.00</td>\n",
       "      <td>0.00</td>\n",
       "      <td>hispanic</td>\n",
       "    </tr>\n",
       "    <tr>\n",
       "      <th>130</th>\n",
       "      <td>53</td>\n",
       "      <td>LessThanHighSchool</td>\n",
       "      <td>NotBlack</td>\n",
       "      <td>NotHispanic</td>\n",
       "      <td>Married</td>\n",
       "      <td>1</td>\n",
       "      <td>0.00</td>\n",
       "      <td>0.00</td>\n",
       "      <td>0.00</td>\n",
       "      <td>NotBlackNotHispanic</td>\n",
       "    </tr>\n",
       "    <tr>\n",
       "      <th>137</th>\n",
       "      <td>30</td>\n",
       "      <td>HighSchool</td>\n",
       "      <td>NotBlack</td>\n",
       "      <td>NotHispanic</td>\n",
       "      <td>Married</td>\n",
       "      <td>0</td>\n",
       "      <td>0.00</td>\n",
       "      <td>0.00</td>\n",
       "      <td>0.00</td>\n",
       "      <td>NotBlackNotHispanic</td>\n",
       "    </tr>\n",
       "    <tr>\n",
       "      <th>143</th>\n",
       "      <td>54</td>\n",
       "      <td>HighSchool</td>\n",
       "      <td>NotBlack</td>\n",
       "      <td>NotHispanic</td>\n",
       "      <td>Married</td>\n",
       "      <td>0</td>\n",
       "      <td>0.00</td>\n",
       "      <td>0.00</td>\n",
       "      <td>0.00</td>\n",
       "      <td>NotBlackNotHispanic</td>\n",
       "    </tr>\n",
       "    <tr>\n",
       "      <th>150</th>\n",
       "      <td>54</td>\n",
       "      <td>HighSchool</td>\n",
       "      <td>NotBlack</td>\n",
       "      <td>NotHispanic</td>\n",
       "      <td>NotMarried</td>\n",
       "      <td>0</td>\n",
       "      <td>0.00</td>\n",
       "      <td>0.00</td>\n",
       "      <td>0.00</td>\n",
       "      <td>NotBlackNotHispanic</td>\n",
       "    </tr>\n",
       "    <tr>\n",
       "      <th>167</th>\n",
       "      <td>36</td>\n",
       "      <td>PostGraduate</td>\n",
       "      <td>NotBlack</td>\n",
       "      <td>NotHispanic</td>\n",
       "      <td>NotMarried</td>\n",
       "      <td>0</td>\n",
       "      <td>0.00</td>\n",
       "      <td>0.00</td>\n",
       "      <td>0.00</td>\n",
       "      <td>NotBlackNotHispanic</td>\n",
       "    </tr>\n",
       "    <tr>\n",
       "      <th>168</th>\n",
       "      <td>55</td>\n",
       "      <td>LessThanHighSchool</td>\n",
       "      <td>NotBlack</td>\n",
       "      <td>NotHispanic</td>\n",
       "      <td>Married</td>\n",
       "      <td>1</td>\n",
       "      <td>0.00</td>\n",
       "      <td>0.00</td>\n",
       "      <td>0.00</td>\n",
       "      <td>NotBlackNotHispanic</td>\n",
       "    </tr>\n",
       "    <tr>\n",
       "      <th>203</th>\n",
       "      <td>22</td>\n",
       "      <td>HighSchool</td>\n",
       "      <td>NotBlack</td>\n",
       "      <td>NotHispanic</td>\n",
       "      <td>NotMarried</td>\n",
       "      <td>0</td>\n",
       "      <td>0.00</td>\n",
       "      <td>0.00</td>\n",
       "      <td>0.00</td>\n",
       "      <td>NotBlackNotHispanic</td>\n",
       "    </tr>\n",
       "    <tr>\n",
       "      <th>222</th>\n",
       "      <td>43</td>\n",
       "      <td>HighSchool</td>\n",
       "      <td>NotBlack</td>\n",
       "      <td>NotHispanic</td>\n",
       "      <td>Married</td>\n",
       "      <td>0</td>\n",
       "      <td>0.00</td>\n",
       "      <td>0.00</td>\n",
       "      <td>0.00</td>\n",
       "      <td>NotBlackNotHispanic</td>\n",
       "    </tr>\n",
       "    <tr>\n",
       "      <th>238</th>\n",
       "      <td>30</td>\n",
       "      <td>Intermediate</td>\n",
       "      <td>NotBlack</td>\n",
       "      <td>NotHispanic</td>\n",
       "      <td>NotMarried</td>\n",
       "      <td>0</td>\n",
       "      <td>0.00</td>\n",
       "      <td>0.00</td>\n",
       "      <td>0.00</td>\n",
       "      <td>NotBlackNotHispanic</td>\n",
       "    </tr>\n",
       "    <tr>\n",
       "      <th>249</th>\n",
       "      <td>41</td>\n",
       "      <td>LessThanHighSchool</td>\n",
       "      <td>NotBlack</td>\n",
       "      <td>NotHispanic</td>\n",
       "      <td>Married</td>\n",
       "      <td>1</td>\n",
       "      <td>0.00</td>\n",
       "      <td>0.00</td>\n",
       "      <td>0.00</td>\n",
       "      <td>NotBlackNotHispanic</td>\n",
       "    </tr>\n",
       "    <tr>\n",
       "      <th>250</th>\n",
       "      <td>54</td>\n",
       "      <td>HighSchool</td>\n",
       "      <td>NotBlack</td>\n",
       "      <td>NotHispanic</td>\n",
       "      <td>Married</td>\n",
       "      <td>0</td>\n",
       "      <td>0.00</td>\n",
       "      <td>0.00</td>\n",
       "      <td>0.00</td>\n",
       "      <td>NotBlackNotHispanic</td>\n",
       "    </tr>\n",
       "    <tr>\n",
       "      <th>260</th>\n",
       "      <td>50</td>\n",
       "      <td>HighSchool</td>\n",
       "      <td>NotBlack</td>\n",
       "      <td>NotHispanic</td>\n",
       "      <td>Married</td>\n",
       "      <td>0</td>\n",
       "      <td>0.00</td>\n",
       "      <td>0.00</td>\n",
       "      <td>0.00</td>\n",
       "      <td>NotBlackNotHispanic</td>\n",
       "    </tr>\n",
       "    <tr>\n",
       "      <th>265</th>\n",
       "      <td>46</td>\n",
       "      <td>HighSchool</td>\n",
       "      <td>NotBlack</td>\n",
       "      <td>NotHispanic</td>\n",
       "      <td>Married</td>\n",
       "      <td>0</td>\n",
       "      <td>0.00</td>\n",
       "      <td>0.00</td>\n",
       "      <td>0.00</td>\n",
       "      <td>NotBlackNotHispanic</td>\n",
       "    </tr>\n",
       "    <tr>\n",
       "      <th>286</th>\n",
       "      <td>23</td>\n",
       "      <td>PostGraduate</td>\n",
       "      <td>NotBlack</td>\n",
       "      <td>hispanic</td>\n",
       "      <td>NotMarried</td>\n",
       "      <td>0</td>\n",
       "      <td>0.00</td>\n",
       "      <td>0.00</td>\n",
       "      <td>0.00</td>\n",
       "      <td>hispanic</td>\n",
       "    </tr>\n",
       "    <tr>\n",
       "      <th>291</th>\n",
       "      <td>29</td>\n",
       "      <td>HighSchool</td>\n",
       "      <td>NotBlack</td>\n",
       "      <td>NotHispanic</td>\n",
       "      <td>NotMarried</td>\n",
       "      <td>0</td>\n",
       "      <td>0.00</td>\n",
       "      <td>0.00</td>\n",
       "      <td>0.00</td>\n",
       "      <td>NotBlackNotHispanic</td>\n",
       "    </tr>\n",
       "    <tr>\n",
       "      <th>328</th>\n",
       "      <td>39</td>\n",
       "      <td>Intermediate</td>\n",
       "      <td>black</td>\n",
       "      <td>NotHispanic</td>\n",
       "      <td>NotMarried</td>\n",
       "      <td>0</td>\n",
       "      <td>0.00</td>\n",
       "      <td>0.00</td>\n",
       "      <td>0.00</td>\n",
       "      <td>black</td>\n",
       "    </tr>\n",
       "    <tr>\n",
       "      <th>358</th>\n",
       "      <td>46</td>\n",
       "      <td>HighSchool</td>\n",
       "      <td>NotBlack</td>\n",
       "      <td>NotHispanic</td>\n",
       "      <td>Married</td>\n",
       "      <td>0</td>\n",
       "      <td>0.00</td>\n",
       "      <td>0.00</td>\n",
       "      <td>0.00</td>\n",
       "      <td>NotBlackNotHispanic</td>\n",
       "    </tr>\n",
       "    <tr>\n",
       "      <th>368</th>\n",
       "      <td>39</td>\n",
       "      <td>PostGraduate</td>\n",
       "      <td>NotBlack</td>\n",
       "      <td>NotHispanic</td>\n",
       "      <td>NotMarried</td>\n",
       "      <td>0</td>\n",
       "      <td>0.00</td>\n",
       "      <td>0.00</td>\n",
       "      <td>0.00</td>\n",
       "      <td>NotBlackNotHispanic</td>\n",
       "    </tr>\n",
       "    <tr>\n",
       "      <th>372</th>\n",
       "      <td>40</td>\n",
       "      <td>Intermediate</td>\n",
       "      <td>NotBlack</td>\n",
       "      <td>NotHispanic</td>\n",
       "      <td>Married</td>\n",
       "      <td>0</td>\n",
       "      <td>0.00</td>\n",
       "      <td>0.00</td>\n",
       "      <td>0.00</td>\n",
       "      <td>NotBlackNotHispanic</td>\n",
       "    </tr>\n",
       "    <tr>\n",
       "      <th>15755</th>\n",
       "      <td>39</td>\n",
       "      <td>graduate</td>\n",
       "      <td>NotBlack</td>\n",
       "      <td>NotHispanic</td>\n",
       "      <td>Married</td>\n",
       "      <td>0</td>\n",
       "      <td>25862.32</td>\n",
       "      <td>25243.55</td>\n",
       "      <td>25564.67</td>\n",
       "      <td>NotBlackNotHispanic</td>\n",
       "    </tr>\n",
       "    <tr>\n",
       "      <th>15779</th>\n",
       "      <td>50</td>\n",
       "      <td>PostGraduate</td>\n",
       "      <td>NotBlack</td>\n",
       "      <td>NotHispanic</td>\n",
       "      <td>Married</td>\n",
       "      <td>0</td>\n",
       "      <td>25862.32</td>\n",
       "      <td>25243.55</td>\n",
       "      <td>25564.67</td>\n",
       "      <td>NotBlackNotHispanic</td>\n",
       "    </tr>\n",
       "    <tr>\n",
       "      <th>15784</th>\n",
       "      <td>32</td>\n",
       "      <td>HighSchool</td>\n",
       "      <td>NotBlack</td>\n",
       "      <td>NotHispanic</td>\n",
       "      <td>Married</td>\n",
       "      <td>0</td>\n",
       "      <td>25862.32</td>\n",
       "      <td>25243.55</td>\n",
       "      <td>25564.67</td>\n",
       "      <td>NotBlackNotHispanic</td>\n",
       "    </tr>\n",
       "    <tr>\n",
       "      <th>15802</th>\n",
       "      <td>26</td>\n",
       "      <td>HighSchool</td>\n",
       "      <td>NotBlack</td>\n",
       "      <td>hispanic</td>\n",
       "      <td>Married</td>\n",
       "      <td>0</td>\n",
       "      <td>25862.32</td>\n",
       "      <td>25243.55</td>\n",
       "      <td>25564.67</td>\n",
       "      <td>hispanic</td>\n",
       "    </tr>\n",
       "    <tr>\n",
       "      <th>15803</th>\n",
       "      <td>35</td>\n",
       "      <td>graduate</td>\n",
       "      <td>black</td>\n",
       "      <td>NotHispanic</td>\n",
       "      <td>Married</td>\n",
       "      <td>0</td>\n",
       "      <td>25862.32</td>\n",
       "      <td>25243.55</td>\n",
       "      <td>25564.67</td>\n",
       "      <td>black</td>\n",
       "    </tr>\n",
       "    <tr>\n",
       "      <th>15809</th>\n",
       "      <td>32</td>\n",
       "      <td>HighSchool</td>\n",
       "      <td>NotBlack</td>\n",
       "      <td>NotHispanic</td>\n",
       "      <td>Married</td>\n",
       "      <td>0</td>\n",
       "      <td>25862.32</td>\n",
       "      <td>25243.55</td>\n",
       "      <td>25564.67</td>\n",
       "      <td>NotBlackNotHispanic</td>\n",
       "    </tr>\n",
       "    <tr>\n",
       "      <th>15811</th>\n",
       "      <td>54</td>\n",
       "      <td>Intermediate</td>\n",
       "      <td>NotBlack</td>\n",
       "      <td>NotHispanic</td>\n",
       "      <td>Married</td>\n",
       "      <td>0</td>\n",
       "      <td>25862.32</td>\n",
       "      <td>25243.55</td>\n",
       "      <td>25564.67</td>\n",
       "      <td>NotBlackNotHispanic</td>\n",
       "    </tr>\n",
       "    <tr>\n",
       "      <th>15813</th>\n",
       "      <td>35</td>\n",
       "      <td>HighSchool</td>\n",
       "      <td>NotBlack</td>\n",
       "      <td>NotHispanic</td>\n",
       "      <td>NotMarried</td>\n",
       "      <td>0</td>\n",
       "      <td>25862.32</td>\n",
       "      <td>25243.55</td>\n",
       "      <td>25564.67</td>\n",
       "      <td>NotBlackNotHispanic</td>\n",
       "    </tr>\n",
       "    <tr>\n",
       "      <th>15833</th>\n",
       "      <td>34</td>\n",
       "      <td>Intermediate</td>\n",
       "      <td>NotBlack</td>\n",
       "      <td>NotHispanic</td>\n",
       "      <td>Married</td>\n",
       "      <td>0</td>\n",
       "      <td>25862.32</td>\n",
       "      <td>25243.55</td>\n",
       "      <td>25564.67</td>\n",
       "      <td>NotBlackNotHispanic</td>\n",
       "    </tr>\n",
       "    <tr>\n",
       "      <th>15834</th>\n",
       "      <td>36</td>\n",
       "      <td>Intermediate</td>\n",
       "      <td>NotBlack</td>\n",
       "      <td>NotHispanic</td>\n",
       "      <td>Married</td>\n",
       "      <td>0</td>\n",
       "      <td>25862.32</td>\n",
       "      <td>25243.55</td>\n",
       "      <td>25564.67</td>\n",
       "      <td>NotBlackNotHispanic</td>\n",
       "    </tr>\n",
       "    <tr>\n",
       "      <th>15856</th>\n",
       "      <td>34</td>\n",
       "      <td>LessThanHighSchool</td>\n",
       "      <td>NotBlack</td>\n",
       "      <td>NotHispanic</td>\n",
       "      <td>Married</td>\n",
       "      <td>1</td>\n",
       "      <td>25862.32</td>\n",
       "      <td>25243.55</td>\n",
       "      <td>25564.67</td>\n",
       "      <td>NotBlackNotHispanic</td>\n",
       "    </tr>\n",
       "    <tr>\n",
       "      <th>15870</th>\n",
       "      <td>49</td>\n",
       "      <td>Intermediate</td>\n",
       "      <td>NotBlack</td>\n",
       "      <td>NotHispanic</td>\n",
       "      <td>Married</td>\n",
       "      <td>0</td>\n",
       "      <td>25862.32</td>\n",
       "      <td>25243.55</td>\n",
       "      <td>25564.67</td>\n",
       "      <td>NotBlackNotHispanic</td>\n",
       "    </tr>\n",
       "    <tr>\n",
       "      <th>15878</th>\n",
       "      <td>43</td>\n",
       "      <td>Intermediate</td>\n",
       "      <td>NotBlack</td>\n",
       "      <td>NotHispanic</td>\n",
       "      <td>Married</td>\n",
       "      <td>0</td>\n",
       "      <td>25862.32</td>\n",
       "      <td>25243.55</td>\n",
       "      <td>25564.67</td>\n",
       "      <td>NotBlackNotHispanic</td>\n",
       "    </tr>\n",
       "    <tr>\n",
       "      <th>15888</th>\n",
       "      <td>45</td>\n",
       "      <td>HighSchool</td>\n",
       "      <td>NotBlack</td>\n",
       "      <td>NotHispanic</td>\n",
       "      <td>NotMarried</td>\n",
       "      <td>0</td>\n",
       "      <td>25862.32</td>\n",
       "      <td>25243.55</td>\n",
       "      <td>25564.67</td>\n",
       "      <td>NotBlackNotHispanic</td>\n",
       "    </tr>\n",
       "    <tr>\n",
       "      <th>15892</th>\n",
       "      <td>38</td>\n",
       "      <td>HighSchool</td>\n",
       "      <td>NotBlack</td>\n",
       "      <td>NotHispanic</td>\n",
       "      <td>Married</td>\n",
       "      <td>0</td>\n",
       "      <td>25862.32</td>\n",
       "      <td>25243.55</td>\n",
       "      <td>25564.67</td>\n",
       "      <td>NotBlackNotHispanic</td>\n",
       "    </tr>\n",
       "    <tr>\n",
       "      <th>15918</th>\n",
       "      <td>35</td>\n",
       "      <td>LessThanHighSchool</td>\n",
       "      <td>NotBlack</td>\n",
       "      <td>NotHispanic</td>\n",
       "      <td>Married</td>\n",
       "      <td>1</td>\n",
       "      <td>25862.32</td>\n",
       "      <td>25243.55</td>\n",
       "      <td>25564.67</td>\n",
       "      <td>NotBlackNotHispanic</td>\n",
       "    </tr>\n",
       "    <tr>\n",
       "      <th>15945</th>\n",
       "      <td>27</td>\n",
       "      <td>Intermediate</td>\n",
       "      <td>NotBlack</td>\n",
       "      <td>NotHispanic</td>\n",
       "      <td>Married</td>\n",
       "      <td>0</td>\n",
       "      <td>25862.32</td>\n",
       "      <td>25243.55</td>\n",
       "      <td>25564.67</td>\n",
       "      <td>NotBlackNotHispanic</td>\n",
       "    </tr>\n",
       "    <tr>\n",
       "      <th>15948</th>\n",
       "      <td>28</td>\n",
       "      <td>Intermediate</td>\n",
       "      <td>NotBlack</td>\n",
       "      <td>NotHispanic</td>\n",
       "      <td>Married</td>\n",
       "      <td>0</td>\n",
       "      <td>25862.32</td>\n",
       "      <td>25243.55</td>\n",
       "      <td>25564.67</td>\n",
       "      <td>NotBlackNotHispanic</td>\n",
       "    </tr>\n",
       "    <tr>\n",
       "      <th>15949</th>\n",
       "      <td>39</td>\n",
       "      <td>LessThanHighSchool</td>\n",
       "      <td>NotBlack</td>\n",
       "      <td>NotHispanic</td>\n",
       "      <td>Married</td>\n",
       "      <td>1</td>\n",
       "      <td>25862.32</td>\n",
       "      <td>25243.55</td>\n",
       "      <td>25564.67</td>\n",
       "      <td>NotBlackNotHispanic</td>\n",
       "    </tr>\n",
       "    <tr>\n",
       "      <th>15984</th>\n",
       "      <td>48</td>\n",
       "      <td>LessThanHighSchool</td>\n",
       "      <td>NotBlack</td>\n",
       "      <td>NotHispanic</td>\n",
       "      <td>Married</td>\n",
       "      <td>1</td>\n",
       "      <td>25862.32</td>\n",
       "      <td>25243.55</td>\n",
       "      <td>25564.67</td>\n",
       "      <td>NotBlackNotHispanic</td>\n",
       "    </tr>\n",
       "  </tbody>\n",
       "</table>\n",
       "</div>"
      ],
      "text/plain": [
       "       Age          Eduacation      Race         Hisp MaritalStatus  Nodeg  \\\n",
       "40      21          HighSchool  NotBlack     hispanic    NotMarried      0   \n",
       "130     53  LessThanHighSchool  NotBlack  NotHispanic       Married      1   \n",
       "137     30          HighSchool  NotBlack  NotHispanic       Married      0   \n",
       "143     54          HighSchool  NotBlack  NotHispanic       Married      0   \n",
       "150     54          HighSchool  NotBlack  NotHispanic    NotMarried      0   \n",
       "167     36        PostGraduate  NotBlack  NotHispanic    NotMarried      0   \n",
       "168     55  LessThanHighSchool  NotBlack  NotHispanic       Married      1   \n",
       "203     22          HighSchool  NotBlack  NotHispanic    NotMarried      0   \n",
       "222     43          HighSchool  NotBlack  NotHispanic       Married      0   \n",
       "238     30        Intermediate  NotBlack  NotHispanic    NotMarried      0   \n",
       "249     41  LessThanHighSchool  NotBlack  NotHispanic       Married      1   \n",
       "250     54          HighSchool  NotBlack  NotHispanic       Married      0   \n",
       "260     50          HighSchool  NotBlack  NotHispanic       Married      0   \n",
       "265     46          HighSchool  NotBlack  NotHispanic       Married      0   \n",
       "286     23        PostGraduate  NotBlack     hispanic    NotMarried      0   \n",
       "291     29          HighSchool  NotBlack  NotHispanic    NotMarried      0   \n",
       "328     39        Intermediate     black  NotHispanic    NotMarried      0   \n",
       "358     46          HighSchool  NotBlack  NotHispanic       Married      0   \n",
       "368     39        PostGraduate  NotBlack  NotHispanic    NotMarried      0   \n",
       "372     40        Intermediate  NotBlack  NotHispanic       Married      0   \n",
       "15755   39            graduate  NotBlack  NotHispanic       Married      0   \n",
       "15779   50        PostGraduate  NotBlack  NotHispanic       Married      0   \n",
       "15784   32          HighSchool  NotBlack  NotHispanic       Married      0   \n",
       "15802   26          HighSchool  NotBlack     hispanic       Married      0   \n",
       "15803   35            graduate     black  NotHispanic       Married      0   \n",
       "15809   32          HighSchool  NotBlack  NotHispanic       Married      0   \n",
       "15811   54        Intermediate  NotBlack  NotHispanic       Married      0   \n",
       "15813   35          HighSchool  NotBlack  NotHispanic    NotMarried      0   \n",
       "15833   34        Intermediate  NotBlack  NotHispanic       Married      0   \n",
       "15834   36        Intermediate  NotBlack  NotHispanic       Married      0   \n",
       "15856   34  LessThanHighSchool  NotBlack  NotHispanic       Married      1   \n",
       "15870   49        Intermediate  NotBlack  NotHispanic       Married      0   \n",
       "15878   43        Intermediate  NotBlack  NotHispanic       Married      0   \n",
       "15888   45          HighSchool  NotBlack  NotHispanic    NotMarried      0   \n",
       "15892   38          HighSchool  NotBlack  NotHispanic       Married      0   \n",
       "15918   35  LessThanHighSchool  NotBlack  NotHispanic       Married      1   \n",
       "15945   27        Intermediate  NotBlack  NotHispanic       Married      0   \n",
       "15948   28        Intermediate  NotBlack  NotHispanic       Married      0   \n",
       "15949   39  LessThanHighSchool  NotBlack  NotHispanic       Married      1   \n",
       "15984   48  LessThanHighSchool  NotBlack  NotHispanic       Married      1   \n",
       "\n",
       "       Earnings_1974  Earnings_1975  Earnings_1978                Races  \n",
       "40              0.00           0.00           0.00             hispanic  \n",
       "130             0.00           0.00           0.00  NotBlackNotHispanic  \n",
       "137             0.00           0.00           0.00  NotBlackNotHispanic  \n",
       "143             0.00           0.00           0.00  NotBlackNotHispanic  \n",
       "150             0.00           0.00           0.00  NotBlackNotHispanic  \n",
       "167             0.00           0.00           0.00  NotBlackNotHispanic  \n",
       "168             0.00           0.00           0.00  NotBlackNotHispanic  \n",
       "203             0.00           0.00           0.00  NotBlackNotHispanic  \n",
       "222             0.00           0.00           0.00  NotBlackNotHispanic  \n",
       "238             0.00           0.00           0.00  NotBlackNotHispanic  \n",
       "249             0.00           0.00           0.00  NotBlackNotHispanic  \n",
       "250             0.00           0.00           0.00  NotBlackNotHispanic  \n",
       "260             0.00           0.00           0.00  NotBlackNotHispanic  \n",
       "265             0.00           0.00           0.00  NotBlackNotHispanic  \n",
       "286             0.00           0.00           0.00             hispanic  \n",
       "291             0.00           0.00           0.00  NotBlackNotHispanic  \n",
       "328             0.00           0.00           0.00                black  \n",
       "358             0.00           0.00           0.00  NotBlackNotHispanic  \n",
       "368             0.00           0.00           0.00  NotBlackNotHispanic  \n",
       "372             0.00           0.00           0.00  NotBlackNotHispanic  \n",
       "15755       25862.32       25243.55       25564.67  NotBlackNotHispanic  \n",
       "15779       25862.32       25243.55       25564.67  NotBlackNotHispanic  \n",
       "15784       25862.32       25243.55       25564.67  NotBlackNotHispanic  \n",
       "15802       25862.32       25243.55       25564.67             hispanic  \n",
       "15803       25862.32       25243.55       25564.67                black  \n",
       "15809       25862.32       25243.55       25564.67  NotBlackNotHispanic  \n",
       "15811       25862.32       25243.55       25564.67  NotBlackNotHispanic  \n",
       "15813       25862.32       25243.55       25564.67  NotBlackNotHispanic  \n",
       "15833       25862.32       25243.55       25564.67  NotBlackNotHispanic  \n",
       "15834       25862.32       25243.55       25564.67  NotBlackNotHispanic  \n",
       "15856       25862.32       25243.55       25564.67  NotBlackNotHispanic  \n",
       "15870       25862.32       25243.55       25564.67  NotBlackNotHispanic  \n",
       "15878       25862.32       25243.55       25564.67  NotBlackNotHispanic  \n",
       "15888       25862.32       25243.55       25564.67  NotBlackNotHispanic  \n",
       "15892       25862.32       25243.55       25564.67  NotBlackNotHispanic  \n",
       "15918       25862.32       25243.55       25564.67  NotBlackNotHispanic  \n",
       "15945       25862.32       25243.55       25564.67  NotBlackNotHispanic  \n",
       "15948       25862.32       25243.55       25564.67  NotBlackNotHispanic  \n",
       "15949       25862.32       25243.55       25564.67  NotBlackNotHispanic  \n",
       "15984       25862.32       25243.55       25564.67  NotBlackNotHispanic  "
      ]
     },
     "metadata": {},
     "output_type": "display_data"
    }
   ],
   "source": [
    "# sorting the values for the two ends \n",
    "df = df.sort_values([\"Earnings_1978\",\"Earnings_1974\",\"Earnings_1975\"] ) \n",
    "\n",
    "# viewing the top 20 and last 20 base of the sorting\n",
    "display(pd.concat([df.head(20),df.tail(20)])) "
   ]
  },
  {
   "cell_type": "markdown",
   "metadata": {},
   "source": [
    "Making the judgement call that the values of Earnings_1978, Earning_1975 and Earnigs_1974 are duplicated and are outliers\n",
    "\n",
    "判斷 Earnings_1978、Earning_1975 和 Earnigs_1974 的值重複並且是異常值"
   ]
  },
  {
   "cell_type": "code",
   "execution_count": 39,
   "metadata": {},
   "outputs": [],
   "source": [
    "df = df.round({\"Earnings_1974\":2,\"Earnings_1975\":2, \"Earnings_1978\":2})"
   ]
  },
  {
   "cell_type": "code",
   "execution_count": 40,
   "metadata": {},
   "outputs": [],
   "source": [
    "# dropping values in terms of all E\n",
    "df = df.drop_duplicates(['Earnings_1974', 'Earnings_1975', 'Earnings_1978']) "
   ]
  },
  {
   "cell_type": "code",
   "execution_count": 41,
   "metadata": {},
   "outputs": [
    {
     "data": {
      "text/html": [
       "<div>\n",
       "<style scoped>\n",
       "    .dataframe tbody tr th:only-of-type {\n",
       "        vertical-align: middle;\n",
       "    }\n",
       "\n",
       "    .dataframe tbody tr th {\n",
       "        vertical-align: top;\n",
       "    }\n",
       "\n",
       "    .dataframe thead th {\n",
       "        text-align: right;\n",
       "    }\n",
       "</style>\n",
       "<table border=\"1\" class=\"dataframe\">\n",
       "  <thead>\n",
       "    <tr style=\"text-align: right;\">\n",
       "      <th></th>\n",
       "      <th>Age</th>\n",
       "      <th>Eduacation</th>\n",
       "      <th>Race</th>\n",
       "      <th>Hisp</th>\n",
       "      <th>MaritalStatus</th>\n",
       "      <th>Nodeg</th>\n",
       "      <th>Earnings_1974</th>\n",
       "      <th>Earnings_1975</th>\n",
       "      <th>Earnings_1978</th>\n",
       "      <th>Races</th>\n",
       "    </tr>\n",
       "  </thead>\n",
       "  <tbody>\n",
       "    <tr>\n",
       "      <th>40</th>\n",
       "      <td>21</td>\n",
       "      <td>HighSchool</td>\n",
       "      <td>NotBlack</td>\n",
       "      <td>hispanic</td>\n",
       "      <td>NotMarried</td>\n",
       "      <td>0</td>\n",
       "      <td>0.00</td>\n",
       "      <td>0.00</td>\n",
       "      <td>0.00</td>\n",
       "      <td>hispanic</td>\n",
       "    </tr>\n",
       "    <tr>\n",
       "      <th>7967</th>\n",
       "      <td>31</td>\n",
       "      <td>PostGraduate</td>\n",
       "      <td>NotBlack</td>\n",
       "      <td>NotHispanic</td>\n",
       "      <td>Married</td>\n",
       "      <td>0</td>\n",
       "      <td>0.00</td>\n",
       "      <td>10.74</td>\n",
       "      <td>0.00</td>\n",
       "      <td>NotBlackNotHispanic</td>\n",
       "    </tr>\n",
       "    <tr>\n",
       "      <th>12475</th>\n",
       "      <td>26</td>\n",
       "      <td>Intermediate</td>\n",
       "      <td>NotBlack</td>\n",
       "      <td>NotHispanic</td>\n",
       "      <td>NotMarried</td>\n",
       "      <td>0</td>\n",
       "      <td>0.00</td>\n",
       "      <td>14.32</td>\n",
       "      <td>0.00</td>\n",
       "      <td>NotBlackNotHispanic</td>\n",
       "    </tr>\n",
       "    <tr>\n",
       "      <th>2681</th>\n",
       "      <td>43</td>\n",
       "      <td>HighSchool</td>\n",
       "      <td>NotBlack</td>\n",
       "      <td>NotHispanic</td>\n",
       "      <td>Married</td>\n",
       "      <td>0</td>\n",
       "      <td>0.00</td>\n",
       "      <td>21.48</td>\n",
       "      <td>0.00</td>\n",
       "      <td>NotBlackNotHispanic</td>\n",
       "    </tr>\n",
       "    <tr>\n",
       "      <th>7099</th>\n",
       "      <td>25</td>\n",
       "      <td>HighSchool</td>\n",
       "      <td>NotBlack</td>\n",
       "      <td>hispanic</td>\n",
       "      <td>Married</td>\n",
       "      <td>0</td>\n",
       "      <td>0.00</td>\n",
       "      <td>25.06</td>\n",
       "      <td>0.00</td>\n",
       "      <td>hispanic</td>\n",
       "    </tr>\n",
       "    <tr>\n",
       "      <th>14463</th>\n",
       "      <td>36</td>\n",
       "      <td>LessThanHighSchool</td>\n",
       "      <td>NotBlack</td>\n",
       "      <td>NotHispanic</td>\n",
       "      <td>Married</td>\n",
       "      <td>1</td>\n",
       "      <td>0.00</td>\n",
       "      <td>28.65</td>\n",
       "      <td>0.00</td>\n",
       "      <td>NotBlackNotHispanic</td>\n",
       "    </tr>\n",
       "    <tr>\n",
       "      <th>9203</th>\n",
       "      <td>16</td>\n",
       "      <td>LessThanHighSchool</td>\n",
       "      <td>black</td>\n",
       "      <td>NotHispanic</td>\n",
       "      <td>NotMarried</td>\n",
       "      <td>1</td>\n",
       "      <td>0.00</td>\n",
       "      <td>44.76</td>\n",
       "      <td>0.00</td>\n",
       "      <td>black</td>\n",
       "    </tr>\n",
       "    <tr>\n",
       "      <th>1641</th>\n",
       "      <td>23</td>\n",
       "      <td>Intermediate</td>\n",
       "      <td>black</td>\n",
       "      <td>NotHispanic</td>\n",
       "      <td>NotMarried</td>\n",
       "      <td>0</td>\n",
       "      <td>0.00</td>\n",
       "      <td>55.50</td>\n",
       "      <td>0.00</td>\n",
       "      <td>black</td>\n",
       "    </tr>\n",
       "    <tr>\n",
       "      <th>15650</th>\n",
       "      <td>18</td>\n",
       "      <td>LessThanHighSchool</td>\n",
       "      <td>NotBlack</td>\n",
       "      <td>NotHispanic</td>\n",
       "      <td>NotMarried</td>\n",
       "      <td>1</td>\n",
       "      <td>0.00</td>\n",
       "      <td>71.61</td>\n",
       "      <td>0.00</td>\n",
       "      <td>NotBlackNotHispanic</td>\n",
       "    </tr>\n",
       "    <tr>\n",
       "      <th>12590</th>\n",
       "      <td>29</td>\n",
       "      <td>HighSchool</td>\n",
       "      <td>NotBlack</td>\n",
       "      <td>NotHispanic</td>\n",
       "      <td>Married</td>\n",
       "      <td>0</td>\n",
       "      <td>0.00</td>\n",
       "      <td>75.19</td>\n",
       "      <td>0.00</td>\n",
       "      <td>NotBlackNotHispanic</td>\n",
       "    </tr>\n",
       "    <tr>\n",
       "      <th>15265</th>\n",
       "      <td>45</td>\n",
       "      <td>HighSchool</td>\n",
       "      <td>NotBlack</td>\n",
       "      <td>NotHispanic</td>\n",
       "      <td>NotMarried</td>\n",
       "      <td>0</td>\n",
       "      <td>0.00</td>\n",
       "      <td>82.35</td>\n",
       "      <td>0.00</td>\n",
       "      <td>NotBlackNotHispanic</td>\n",
       "    </tr>\n",
       "    <tr>\n",
       "      <th>6091</th>\n",
       "      <td>24</td>\n",
       "      <td>LessThanHighSchool</td>\n",
       "      <td>black</td>\n",
       "      <td>NotHispanic</td>\n",
       "      <td>NotMarried</td>\n",
       "      <td>1</td>\n",
       "      <td>0.00</td>\n",
       "      <td>94.89</td>\n",
       "      <td>0.00</td>\n",
       "      <td>black</td>\n",
       "    </tr>\n",
       "    <tr>\n",
       "      <th>10822</th>\n",
       "      <td>16</td>\n",
       "      <td>LessThanHighSchool</td>\n",
       "      <td>NotBlack</td>\n",
       "      <td>NotHispanic</td>\n",
       "      <td>NotMarried</td>\n",
       "      <td>1</td>\n",
       "      <td>0.00</td>\n",
       "      <td>96.68</td>\n",
       "      <td>0.00</td>\n",
       "      <td>NotBlackNotHispanic</td>\n",
       "    </tr>\n",
       "    <tr>\n",
       "      <th>6745</th>\n",
       "      <td>17</td>\n",
       "      <td>LessThanHighSchool</td>\n",
       "      <td>NotBlack</td>\n",
       "      <td>NotHispanic</td>\n",
       "      <td>NotMarried</td>\n",
       "      <td>1</td>\n",
       "      <td>0.00</td>\n",
       "      <td>100.26</td>\n",
       "      <td>0.00</td>\n",
       "      <td>NotBlackNotHispanic</td>\n",
       "    </tr>\n",
       "    <tr>\n",
       "      <th>2657</th>\n",
       "      <td>26</td>\n",
       "      <td>HighSchool</td>\n",
       "      <td>NotBlack</td>\n",
       "      <td>NotHispanic</td>\n",
       "      <td>Married</td>\n",
       "      <td>0</td>\n",
       "      <td>0.00</td>\n",
       "      <td>111.00</td>\n",
       "      <td>0.00</td>\n",
       "      <td>NotBlackNotHispanic</td>\n",
       "    </tr>\n",
       "    <tr>\n",
       "      <th>10543</th>\n",
       "      <td>40</td>\n",
       "      <td>graduate</td>\n",
       "      <td>NotBlack</td>\n",
       "      <td>NotHispanic</td>\n",
       "      <td>Married</td>\n",
       "      <td>0</td>\n",
       "      <td>0.00</td>\n",
       "      <td>114.58</td>\n",
       "      <td>0.00</td>\n",
       "      <td>NotBlackNotHispanic</td>\n",
       "    </tr>\n",
       "    <tr>\n",
       "      <th>9330</th>\n",
       "      <td>25</td>\n",
       "      <td>Intermediate</td>\n",
       "      <td>NotBlack</td>\n",
       "      <td>NotHispanic</td>\n",
       "      <td>Married</td>\n",
       "      <td>0</td>\n",
       "      <td>0.00</td>\n",
       "      <td>118.16</td>\n",
       "      <td>0.00</td>\n",
       "      <td>NotBlackNotHispanic</td>\n",
       "    </tr>\n",
       "    <tr>\n",
       "      <th>11292</th>\n",
       "      <td>22</td>\n",
       "      <td>Intermediate</td>\n",
       "      <td>NotBlack</td>\n",
       "      <td>NotHispanic</td>\n",
       "      <td>Married</td>\n",
       "      <td>0</td>\n",
       "      <td>0.00</td>\n",
       "      <td>161.13</td>\n",
       "      <td>0.00</td>\n",
       "      <td>NotBlackNotHispanic</td>\n",
       "    </tr>\n",
       "    <tr>\n",
       "      <th>3168</th>\n",
       "      <td>16</td>\n",
       "      <td>LessThanHighSchool</td>\n",
       "      <td>NotBlack</td>\n",
       "      <td>NotHispanic</td>\n",
       "      <td>NotMarried</td>\n",
       "      <td>1</td>\n",
       "      <td>0.00</td>\n",
       "      <td>204.10</td>\n",
       "      <td>0.00</td>\n",
       "      <td>NotBlackNotHispanic</td>\n",
       "    </tr>\n",
       "    <tr>\n",
       "      <th>3209</th>\n",
       "      <td>23</td>\n",
       "      <td>HighSchool</td>\n",
       "      <td>NotBlack</td>\n",
       "      <td>hispanic</td>\n",
       "      <td>Married</td>\n",
       "      <td>0</td>\n",
       "      <td>0.00</td>\n",
       "      <td>216.63</td>\n",
       "      <td>0.00</td>\n",
       "      <td>hispanic</td>\n",
       "    </tr>\n",
       "    <tr>\n",
       "      <th>5917</th>\n",
       "      <td>37</td>\n",
       "      <td>HighSchool</td>\n",
       "      <td>NotBlack</td>\n",
       "      <td>NotHispanic</td>\n",
       "      <td>Married</td>\n",
       "      <td>0</td>\n",
       "      <td>25862.32</td>\n",
       "      <td>25071.68</td>\n",
       "      <td>25564.67</td>\n",
       "      <td>NotBlackNotHispanic</td>\n",
       "    </tr>\n",
       "    <tr>\n",
       "      <th>12420</th>\n",
       "      <td>54</td>\n",
       "      <td>LessThanHighSchool</td>\n",
       "      <td>NotBlack</td>\n",
       "      <td>NotHispanic</td>\n",
       "      <td>Married</td>\n",
       "      <td>1</td>\n",
       "      <td>25862.32</td>\n",
       "      <td>25073.47</td>\n",
       "      <td>25564.67</td>\n",
       "      <td>NotBlackNotHispanic</td>\n",
       "    </tr>\n",
       "    <tr>\n",
       "      <th>6008</th>\n",
       "      <td>38</td>\n",
       "      <td>LessThanHighSchool</td>\n",
       "      <td>NotBlack</td>\n",
       "      <td>NotHispanic</td>\n",
       "      <td>Married</td>\n",
       "      <td>1</td>\n",
       "      <td>25862.32</td>\n",
       "      <td>25086.00</td>\n",
       "      <td>25564.67</td>\n",
       "      <td>NotBlackNotHispanic</td>\n",
       "    </tr>\n",
       "    <tr>\n",
       "      <th>6145</th>\n",
       "      <td>31</td>\n",
       "      <td>HighSchool</td>\n",
       "      <td>NotBlack</td>\n",
       "      <td>NotHispanic</td>\n",
       "      <td>Married</td>\n",
       "      <td>0</td>\n",
       "      <td>25862.32</td>\n",
       "      <td>25100.32</td>\n",
       "      <td>25564.67</td>\n",
       "      <td>NotBlackNotHispanic</td>\n",
       "    </tr>\n",
       "    <tr>\n",
       "      <th>2137</th>\n",
       "      <td>37</td>\n",
       "      <td>HighSchool</td>\n",
       "      <td>black</td>\n",
       "      <td>NotHispanic</td>\n",
       "      <td>Married</td>\n",
       "      <td>0</td>\n",
       "      <td>25862.32</td>\n",
       "      <td>25134.34</td>\n",
       "      <td>25564.67</td>\n",
       "      <td>black</td>\n",
       "    </tr>\n",
       "    <tr>\n",
       "      <th>13043</th>\n",
       "      <td>35</td>\n",
       "      <td>HighSchool</td>\n",
       "      <td>NotBlack</td>\n",
       "      <td>NotHispanic</td>\n",
       "      <td>Married</td>\n",
       "      <td>0</td>\n",
       "      <td>25862.32</td>\n",
       "      <td>25148.66</td>\n",
       "      <td>25564.67</td>\n",
       "      <td>NotBlackNotHispanic</td>\n",
       "    </tr>\n",
       "    <tr>\n",
       "      <th>15267</th>\n",
       "      <td>50</td>\n",
       "      <td>Intermediate</td>\n",
       "      <td>NotBlack</td>\n",
       "      <td>NotHispanic</td>\n",
       "      <td>Married</td>\n",
       "      <td>0</td>\n",
       "      <td>25862.32</td>\n",
       "      <td>25157.61</td>\n",
       "      <td>25564.67</td>\n",
       "      <td>NotBlackNotHispanic</td>\n",
       "    </tr>\n",
       "    <tr>\n",
       "      <th>2516</th>\n",
       "      <td>48</td>\n",
       "      <td>LessThanHighSchool</td>\n",
       "      <td>NotBlack</td>\n",
       "      <td>NotHispanic</td>\n",
       "      <td>Married</td>\n",
       "      <td>1</td>\n",
       "      <td>25862.32</td>\n",
       "      <td>25162.98</td>\n",
       "      <td>25564.67</td>\n",
       "      <td>NotBlackNotHispanic</td>\n",
       "    </tr>\n",
       "    <tr>\n",
       "      <th>15808</th>\n",
       "      <td>44</td>\n",
       "      <td>LessThanHighSchool</td>\n",
       "      <td>NotBlack</td>\n",
       "      <td>NotHispanic</td>\n",
       "      <td>Married</td>\n",
       "      <td>1</td>\n",
       "      <td>25862.32</td>\n",
       "      <td>25173.73</td>\n",
       "      <td>25564.67</td>\n",
       "      <td>NotBlackNotHispanic</td>\n",
       "    </tr>\n",
       "    <tr>\n",
       "      <th>11737</th>\n",
       "      <td>49</td>\n",
       "      <td>HighSchool</td>\n",
       "      <td>NotBlack</td>\n",
       "      <td>NotHispanic</td>\n",
       "      <td>Married</td>\n",
       "      <td>0</td>\n",
       "      <td>25862.32</td>\n",
       "      <td>25180.89</td>\n",
       "      <td>25564.67</td>\n",
       "      <td>NotBlackNotHispanic</td>\n",
       "    </tr>\n",
       "    <tr>\n",
       "      <th>2944</th>\n",
       "      <td>50</td>\n",
       "      <td>HighSchool</td>\n",
       "      <td>NotBlack</td>\n",
       "      <td>NotHispanic</td>\n",
       "      <td>Married</td>\n",
       "      <td>0</td>\n",
       "      <td>25862.32</td>\n",
       "      <td>25182.68</td>\n",
       "      <td>25564.67</td>\n",
       "      <td>NotBlackNotHispanic</td>\n",
       "    </tr>\n",
       "    <tr>\n",
       "      <th>3640</th>\n",
       "      <td>33</td>\n",
       "      <td>HighSchool</td>\n",
       "      <td>NotBlack</td>\n",
       "      <td>NotHispanic</td>\n",
       "      <td>Married</td>\n",
       "      <td>0</td>\n",
       "      <td>25862.32</td>\n",
       "      <td>25186.26</td>\n",
       "      <td>25564.67</td>\n",
       "      <td>NotBlackNotHispanic</td>\n",
       "    </tr>\n",
       "    <tr>\n",
       "      <th>10554</th>\n",
       "      <td>30</td>\n",
       "      <td>HighSchool</td>\n",
       "      <td>NotBlack</td>\n",
       "      <td>NotHispanic</td>\n",
       "      <td>Married</td>\n",
       "      <td>0</td>\n",
       "      <td>25862.32</td>\n",
       "      <td>25189.84</td>\n",
       "      <td>25564.67</td>\n",
       "      <td>NotBlackNotHispanic</td>\n",
       "    </tr>\n",
       "    <tr>\n",
       "      <th>7161</th>\n",
       "      <td>53</td>\n",
       "      <td>HighSchool</td>\n",
       "      <td>NotBlack</td>\n",
       "      <td>NotHispanic</td>\n",
       "      <td>Married</td>\n",
       "      <td>0</td>\n",
       "      <td>25862.32</td>\n",
       "      <td>25211.32</td>\n",
       "      <td>25564.67</td>\n",
       "      <td>NotBlackNotHispanic</td>\n",
       "    </tr>\n",
       "    <tr>\n",
       "      <th>2558</th>\n",
       "      <td>51</td>\n",
       "      <td>LessThanHighSchool</td>\n",
       "      <td>NotBlack</td>\n",
       "      <td>NotHispanic</td>\n",
       "      <td>Married</td>\n",
       "      <td>1</td>\n",
       "      <td>25862.32</td>\n",
       "      <td>25220.27</td>\n",
       "      <td>25564.67</td>\n",
       "      <td>NotBlackNotHispanic</td>\n",
       "    </tr>\n",
       "    <tr>\n",
       "      <th>6738</th>\n",
       "      <td>28</td>\n",
       "      <td>HighSchool</td>\n",
       "      <td>NotBlack</td>\n",
       "      <td>NotHispanic</td>\n",
       "      <td>Married</td>\n",
       "      <td>0</td>\n",
       "      <td>25862.32</td>\n",
       "      <td>25222.06</td>\n",
       "      <td>25564.67</td>\n",
       "      <td>NotBlackNotHispanic</td>\n",
       "    </tr>\n",
       "    <tr>\n",
       "      <th>8381</th>\n",
       "      <td>29</td>\n",
       "      <td>PostGraduate</td>\n",
       "      <td>NotBlack</td>\n",
       "      <td>NotHispanic</td>\n",
       "      <td>Married</td>\n",
       "      <td>0</td>\n",
       "      <td>25862.32</td>\n",
       "      <td>25232.81</td>\n",
       "      <td>25564.67</td>\n",
       "      <td>NotBlackNotHispanic</td>\n",
       "    </tr>\n",
       "    <tr>\n",
       "      <th>14314</th>\n",
       "      <td>27</td>\n",
       "      <td>HighSchool</td>\n",
       "      <td>NotBlack</td>\n",
       "      <td>NotHispanic</td>\n",
       "      <td>Married</td>\n",
       "      <td>0</td>\n",
       "      <td>25862.32</td>\n",
       "      <td>25239.97</td>\n",
       "      <td>25564.67</td>\n",
       "      <td>NotBlackNotHispanic</td>\n",
       "    </tr>\n",
       "    <tr>\n",
       "      <th>1126</th>\n",
       "      <td>43</td>\n",
       "      <td>HighSchool</td>\n",
       "      <td>NotBlack</td>\n",
       "      <td>NotHispanic</td>\n",
       "      <td>Married</td>\n",
       "      <td>0</td>\n",
       "      <td>25862.32</td>\n",
       "      <td>25241.76</td>\n",
       "      <td>25564.67</td>\n",
       "      <td>NotBlackNotHispanic</td>\n",
       "    </tr>\n",
       "    <tr>\n",
       "      <th>8</th>\n",
       "      <td>48</td>\n",
       "      <td>LessThanHighSchool</td>\n",
       "      <td>NotBlack</td>\n",
       "      <td>NotHispanic</td>\n",
       "      <td>Married</td>\n",
       "      <td>1</td>\n",
       "      <td>25862.32</td>\n",
       "      <td>25243.55</td>\n",
       "      <td>25564.67</td>\n",
       "      <td>NotBlackNotHispanic</td>\n",
       "    </tr>\n",
       "  </tbody>\n",
       "</table>\n",
       "</div>"
      ],
      "text/plain": [
       "       Age          Eduacation      Race         Hisp MaritalStatus  Nodeg  \\\n",
       "40      21          HighSchool  NotBlack     hispanic    NotMarried      0   \n",
       "7967    31        PostGraduate  NotBlack  NotHispanic       Married      0   \n",
       "12475   26        Intermediate  NotBlack  NotHispanic    NotMarried      0   \n",
       "2681    43          HighSchool  NotBlack  NotHispanic       Married      0   \n",
       "7099    25          HighSchool  NotBlack     hispanic       Married      0   \n",
       "14463   36  LessThanHighSchool  NotBlack  NotHispanic       Married      1   \n",
       "9203    16  LessThanHighSchool     black  NotHispanic    NotMarried      1   \n",
       "1641    23        Intermediate     black  NotHispanic    NotMarried      0   \n",
       "15650   18  LessThanHighSchool  NotBlack  NotHispanic    NotMarried      1   \n",
       "12590   29          HighSchool  NotBlack  NotHispanic       Married      0   \n",
       "15265   45          HighSchool  NotBlack  NotHispanic    NotMarried      0   \n",
       "6091    24  LessThanHighSchool     black  NotHispanic    NotMarried      1   \n",
       "10822   16  LessThanHighSchool  NotBlack  NotHispanic    NotMarried      1   \n",
       "6745    17  LessThanHighSchool  NotBlack  NotHispanic    NotMarried      1   \n",
       "2657    26          HighSchool  NotBlack  NotHispanic       Married      0   \n",
       "10543   40            graduate  NotBlack  NotHispanic       Married      0   \n",
       "9330    25        Intermediate  NotBlack  NotHispanic       Married      0   \n",
       "11292   22        Intermediate  NotBlack  NotHispanic       Married      0   \n",
       "3168    16  LessThanHighSchool  NotBlack  NotHispanic    NotMarried      1   \n",
       "3209    23          HighSchool  NotBlack     hispanic       Married      0   \n",
       "5917    37          HighSchool  NotBlack  NotHispanic       Married      0   \n",
       "12420   54  LessThanHighSchool  NotBlack  NotHispanic       Married      1   \n",
       "6008    38  LessThanHighSchool  NotBlack  NotHispanic       Married      1   \n",
       "6145    31          HighSchool  NotBlack  NotHispanic       Married      0   \n",
       "2137    37          HighSchool     black  NotHispanic       Married      0   \n",
       "13043   35          HighSchool  NotBlack  NotHispanic       Married      0   \n",
       "15267   50        Intermediate  NotBlack  NotHispanic       Married      0   \n",
       "2516    48  LessThanHighSchool  NotBlack  NotHispanic       Married      1   \n",
       "15808   44  LessThanHighSchool  NotBlack  NotHispanic       Married      1   \n",
       "11737   49          HighSchool  NotBlack  NotHispanic       Married      0   \n",
       "2944    50          HighSchool  NotBlack  NotHispanic       Married      0   \n",
       "3640    33          HighSchool  NotBlack  NotHispanic       Married      0   \n",
       "10554   30          HighSchool  NotBlack  NotHispanic       Married      0   \n",
       "7161    53          HighSchool  NotBlack  NotHispanic       Married      0   \n",
       "2558    51  LessThanHighSchool  NotBlack  NotHispanic       Married      1   \n",
       "6738    28          HighSchool  NotBlack  NotHispanic       Married      0   \n",
       "8381    29        PostGraduate  NotBlack  NotHispanic       Married      0   \n",
       "14314   27          HighSchool  NotBlack  NotHispanic       Married      0   \n",
       "1126    43          HighSchool  NotBlack  NotHispanic       Married      0   \n",
       "8       48  LessThanHighSchool  NotBlack  NotHispanic       Married      1   \n",
       "\n",
       "       Earnings_1974  Earnings_1975  Earnings_1978                Races  \n",
       "40              0.00           0.00           0.00             hispanic  \n",
       "7967            0.00          10.74           0.00  NotBlackNotHispanic  \n",
       "12475           0.00          14.32           0.00  NotBlackNotHispanic  \n",
       "2681            0.00          21.48           0.00  NotBlackNotHispanic  \n",
       "7099            0.00          25.06           0.00             hispanic  \n",
       "14463           0.00          28.65           0.00  NotBlackNotHispanic  \n",
       "9203            0.00          44.76           0.00                black  \n",
       "1641            0.00          55.50           0.00                black  \n",
       "15650           0.00          71.61           0.00  NotBlackNotHispanic  \n",
       "12590           0.00          75.19           0.00  NotBlackNotHispanic  \n",
       "15265           0.00          82.35           0.00  NotBlackNotHispanic  \n",
       "6091            0.00          94.89           0.00                black  \n",
       "10822           0.00          96.68           0.00  NotBlackNotHispanic  \n",
       "6745            0.00         100.26           0.00  NotBlackNotHispanic  \n",
       "2657            0.00         111.00           0.00  NotBlackNotHispanic  \n",
       "10543           0.00         114.58           0.00  NotBlackNotHispanic  \n",
       "9330            0.00         118.16           0.00  NotBlackNotHispanic  \n",
       "11292           0.00         161.13           0.00  NotBlackNotHispanic  \n",
       "3168            0.00         204.10           0.00  NotBlackNotHispanic  \n",
       "3209            0.00         216.63           0.00             hispanic  \n",
       "5917        25862.32       25071.68       25564.67  NotBlackNotHispanic  \n",
       "12420       25862.32       25073.47       25564.67  NotBlackNotHispanic  \n",
       "6008        25862.32       25086.00       25564.67  NotBlackNotHispanic  \n",
       "6145        25862.32       25100.32       25564.67  NotBlackNotHispanic  \n",
       "2137        25862.32       25134.34       25564.67                black  \n",
       "13043       25862.32       25148.66       25564.67  NotBlackNotHispanic  \n",
       "15267       25862.32       25157.61       25564.67  NotBlackNotHispanic  \n",
       "2516        25862.32       25162.98       25564.67  NotBlackNotHispanic  \n",
       "15808       25862.32       25173.73       25564.67  NotBlackNotHispanic  \n",
       "11737       25862.32       25180.89       25564.67  NotBlackNotHispanic  \n",
       "2944        25862.32       25182.68       25564.67  NotBlackNotHispanic  \n",
       "3640        25862.32       25186.26       25564.67  NotBlackNotHispanic  \n",
       "10554       25862.32       25189.84       25564.67  NotBlackNotHispanic  \n",
       "7161        25862.32       25211.32       25564.67  NotBlackNotHispanic  \n",
       "2558        25862.32       25220.27       25564.67  NotBlackNotHispanic  \n",
       "6738        25862.32       25222.06       25564.67  NotBlackNotHispanic  \n",
       "8381        25862.32       25232.81       25564.67  NotBlackNotHispanic  \n",
       "14314       25862.32       25239.97       25564.67  NotBlackNotHispanic  \n",
       "1126        25862.32       25241.76       25564.67  NotBlackNotHispanic  \n",
       "8           25862.32       25243.55       25564.67  NotBlackNotHispanic  "
      ]
     },
     "metadata": {},
     "output_type": "display_data"
    }
   ],
   "source": [
    "# viewing the top 20 and last 20 base of the sorting\n",
    "display(pd.concat([df.head(20),df.tail(20)])) "
   ]
  },
  {
   "cell_type": "code",
   "execution_count": 42,
   "metadata": {},
   "outputs": [],
   "source": [
    "# Removing duplicates based on observations\n",
    "# I want to remove all values in 25862.32 in Earnings_1974 \n",
    "# and all 25564.67 in Earning_1978.\n",
    "df = df[((df['Earnings_1974']!=25862.32) & (df['Earnings_1978']!=25564.67))] "
   ]
  },
  {
   "cell_type": "code",
   "execution_count": 43,
   "metadata": {},
   "outputs": [
    {
     "data": {
      "text/html": [
       "<div>\n",
       "<style scoped>\n",
       "    .dataframe tbody tr th:only-of-type {\n",
       "        vertical-align: middle;\n",
       "    }\n",
       "\n",
       "    .dataframe tbody tr th {\n",
       "        vertical-align: top;\n",
       "    }\n",
       "\n",
       "    .dataframe thead th {\n",
       "        text-align: right;\n",
       "    }\n",
       "</style>\n",
       "<table border=\"1\" class=\"dataframe\">\n",
       "  <thead>\n",
       "    <tr style=\"text-align: right;\">\n",
       "      <th></th>\n",
       "      <th>Age</th>\n",
       "      <th>Nodeg</th>\n",
       "      <th>Earnings_1974</th>\n",
       "      <th>Earnings_1975</th>\n",
       "      <th>Earnings_1978</th>\n",
       "    </tr>\n",
       "  </thead>\n",
       "  <tbody>\n",
       "    <tr>\n",
       "      <th>count</th>\n",
       "      <td>10260.000000</td>\n",
       "      <td>10260.000000</td>\n",
       "      <td>10260.000000</td>\n",
       "      <td>10260.000000</td>\n",
       "      <td>10260.000000</td>\n",
       "    </tr>\n",
       "    <tr>\n",
       "      <th>mean</th>\n",
       "      <td>30.934503</td>\n",
       "      <td>0.355945</td>\n",
       "      <td>10738.146720</td>\n",
       "      <td>10626.415214</td>\n",
       "      <td>11729.787428</td>\n",
       "    </tr>\n",
       "    <tr>\n",
       "      <th>std</th>\n",
       "      <td>11.092299</td>\n",
       "      <td>0.478822</td>\n",
       "      <td>7921.630186</td>\n",
       "      <td>7760.001121</td>\n",
       "      <td>8035.792453</td>\n",
       "    </tr>\n",
       "    <tr>\n",
       "      <th>min</th>\n",
       "      <td>16.000000</td>\n",
       "      <td>0.000000</td>\n",
       "      <td>0.000000</td>\n",
       "      <td>0.000000</td>\n",
       "      <td>0.000000</td>\n",
       "    </tr>\n",
       "    <tr>\n",
       "      <th>25%</th>\n",
       "      <td>22.000000</td>\n",
       "      <td>0.000000</td>\n",
       "      <td>2991.310000</td>\n",
       "      <td>3134.410000</td>\n",
       "      <td>4174.950000</td>\n",
       "    </tr>\n",
       "    <tr>\n",
       "      <th>50%</th>\n",
       "      <td>28.000000</td>\n",
       "      <td>0.000000</td>\n",
       "      <td>10715.230000</td>\n",
       "      <td>10618.400000</td>\n",
       "      <td>12348.625000</td>\n",
       "    </tr>\n",
       "    <tr>\n",
       "      <th>75%</th>\n",
       "      <td>39.000000</td>\n",
       "      <td>1.000000</td>\n",
       "      <td>17604.990000</td>\n",
       "      <td>17196.497500</td>\n",
       "      <td>18694.717500</td>\n",
       "    </tr>\n",
       "    <tr>\n",
       "      <th>max</th>\n",
       "      <td>55.000000</td>\n",
       "      <td>1.000000</td>\n",
       "      <td>25860.360000</td>\n",
       "      <td>25243.550000</td>\n",
       "      <td>25555.800000</td>\n",
       "    </tr>\n",
       "  </tbody>\n",
       "</table>\n",
       "</div>"
      ],
      "text/plain": [
       "                Age         Nodeg  Earnings_1974  Earnings_1975  Earnings_1978\n",
       "count  10260.000000  10260.000000   10260.000000   10260.000000   10260.000000\n",
       "mean      30.934503      0.355945   10738.146720   10626.415214   11729.787428\n",
       "std       11.092299      0.478822    7921.630186    7760.001121    8035.792453\n",
       "min       16.000000      0.000000       0.000000       0.000000       0.000000\n",
       "25%       22.000000      0.000000    2991.310000    3134.410000    4174.950000\n",
       "50%       28.000000      0.000000   10715.230000   10618.400000   12348.625000\n",
       "75%       39.000000      1.000000   17604.990000   17196.497500   18694.717500\n",
       "max       55.000000      1.000000   25860.360000   25243.550000   25555.800000"
      ]
     },
     "execution_count": 43,
     "metadata": {},
     "output_type": "execute_result"
    }
   ],
   "source": [
    "df.describe()"
   ]
  },
  {
   "cell_type": "code",
   "execution_count": 44,
   "metadata": {},
   "outputs": [
    {
     "data": {
      "image/png": "[encoded data removed]",
      "text/plain": [
       "<Figure size 432x288 with 1 Axes>"
      ]
     },
     "metadata": {
      "needs_background": "light"
     },
     "output_type": "display_data"
    }
   ],
   "source": [
    "df_Earn78 = thinkstats2.Hist(round(df['Earnings_1978'],-3), label='Earnings_1978')\n",
    "\n",
    "#Graph\n",
    "\n",
    "thinkplot.Hist(df_Earn78)\n",
    "thinkplot.Config(xlabel='Earning_1978', ylabel='count')\n",
    "thinkplot.axvline(np.mean(df_Earn78), color=\"red\")"
   ]
  },
  {
   "cell_type": "code",
   "execution_count": 45,
   "metadata": {},
   "outputs": [
    {
     "name": "stderr",
     "output_type": "stream",
     "text": [
      "c:\\Users\\Elsa\\anaconda3\\lib\\site-packages\\seaborn\\distributions.py:2619: FutureWarning: `distplot` is a deprecated function and will be removed in a future version. Please adapt your code to use either `displot` (a figure-level function with similar flexibility) or `histplot` (an axes-level function for histograms).\n",
      "  warnings.warn(msg, FutureWarning)\n",
      "c:\\Users\\Elsa\\anaconda3\\lib\\site-packages\\seaborn\\distributions.py:2619: FutureWarning: `distplot` is a deprecated function and will be removed in a future version. Please adapt your code to use either `displot` (a figure-level function with similar flexibility) or `histplot` (an axes-level function for histograms).\n",
      "  warnings.warn(msg, FutureWarning)\n",
      "c:\\Users\\Elsa\\anaconda3\\lib\\site-packages\\seaborn\\distributions.py:2619: FutureWarning: `distplot` is a deprecated function and will be removed in a future version. Please adapt your code to use either `displot` (a figure-level function with similar flexibility) or `histplot` (an axes-level function for histograms).\n",
      "  warnings.warn(msg, FutureWarning)\n"
     ]
    },
    {
     "data": {
      "image/png": "[encoded data removed]",
      "text/plain": [
       "<Figure size 432x288 with 1 Axes>"
      ]
     },
     "metadata": {
      "needs_background": "light"
     },
     "output_type": "display_data"
    }
   ],
   "source": [
    "#Plot Earnings to see if it as a normal curve.\n",
    "sns.distplot(df[\"Earnings_1974\"], hist_kws={\"label\":\"Earnings74\"}, kde_kws={\"label\":\"74\"},)\n",
    "sns.distplot(df[\"Earnings_1975\"], hist_kws={\"label\":\"Earnings75\"}, kde_kws={\"label\":\"75\"},)\n",
    "sns.distplot(df[\"Earnings_1978\"], hist_kws={\"label\":\"Earning78\"}, kde_kws={\"label\":\"78\"},)\n",
    "plt.show()"
   ]
  },
  {
   "cell_type": "code",
   "execution_count": 46,
   "metadata": {},
   "outputs": [
    {
     "data": {
      "image/png": "[encoded data removed]",
      "text/plain": [
       "<Figure size 432x288 with 1 Axes>"
      ]
     },
     "metadata": {
      "needs_background": "light"
     },
     "output_type": "display_data"
    }
   ],
   "source": [
    "df_Earn74 = thinkstats2.Hist(round(df['Earnings_1974'],-3), label='Earning_1974')\n",
    "\n",
    "#Graph\n",
    "\n",
    "thinkplot.Hist(df_Earn74)\n",
    "thinkplot.Config(xlabel='Earning_1974', ylabel='count')\n",
    "thinkplot.axvline(np.mean(df_Earn74), color=\"red\")"
   ]
  },
  {
   "cell_type": "code",
   "execution_count": 47,
   "metadata": {},
   "outputs": [
    {
     "data": {
      "image/png": "[encoded data removed]",
      "text/plain": [
       "<Figure size 432x288 with 1 Axes>"
      ]
     },
     "metadata": {
      "needs_background": "light"
     },
     "output_type": "display_data"
    }
   ],
   "source": [
    "df_Earn75 = thinkstats2.Hist(round(df['Earnings_1975'],-3), label='Earning_1975')\n",
    "\n",
    "#Graph\n",
    "\n",
    "thinkplot.Hist(df_Earn75)\n",
    "thinkplot.Config(xlabel='Earning_1975', ylabel='count')\n",
    "thinkplot.axvline(np.mean(df_Earn75), color=\"red\")"
   ]
  },
  {
   "cell_type": "code",
   "execution_count": 48,
   "metadata": {},
   "outputs": [
    {
     "data": {
      "image/png": "[encoded data removed]",
      "text/plain": [
       "<Figure size 864x432 with 1 Axes>"
      ]
     },
     "metadata": {
      "needs_background": "light"
     },
     "output_type": "display_data"
    },
    {
     "data": {
      "text/plain": [
       "<Figure size 576x432 with 0 Axes>"
      ]
     },
     "metadata": {},
     "output_type": "display_data"
    }
   ],
   "source": [
    "#Graph\n",
    "dfpmf_Earn78 = thinkstats2.Pmf(round(df[\"Earnings_1978\"],-3))\n",
    "\n",
    "thinkplot.PrePlot(cols=2)\n",
    "thinkplot.Pmfs([dfpmf_Earn78])\n",
    "#thinkplot.Show(xlabel=\"Earning_78\", ylabel = \"Percentage\")\n",
    "thinkplot.Show(xlabel=\"Earnings_1978\", ylabel = \"Density\")"
   ]
  },
  {
   "cell_type": "code",
   "execution_count": 49,
   "metadata": {},
   "outputs": [
    {
     "data": {
      "image/png": "[encoded data removed]",
      "text/plain": [
       "<Figure size 864x432 with 1 Axes>"
      ]
     },
     "metadata": {
      "needs_background": "light"
     },
     "output_type": "display_data"
    },
    {
     "data": {
      "text/plain": [
       "<Figure size 576x432 with 0 Axes>"
      ]
     },
     "metadata": {},
     "output_type": "display_data"
    }
   ],
   "source": [
    "#Graph\n",
    "dfpmf_Earn75 = thinkstats2.Pmf(round(df[\"Earnings_1975\"],-3))\n",
    "\n",
    "thinkplot.PrePlot(cols=2)\n",
    "thinkplot.Pmfs([dfpmf_Earn75])\n",
    "#thinkplot.Show(xlabel=\"Earning_75\", ylabel = \"Percentage\")\n",
    "thinkplot.Show(xlabel=\"Earnings_1975\", ylabel = \"Density\")"
   ]
  },
  {
   "cell_type": "code",
   "execution_count": 50,
   "metadata": {},
   "outputs": [
    {
     "data": {
      "image/png": "[encoded data removed]",
      "text/plain": [
       "<Figure size 864x432 with 1 Axes>"
      ]
     },
     "metadata": {
      "needs_background": "light"
     },
     "output_type": "display_data"
    },
    {
     "data": {
      "text/plain": [
       "<Figure size 576x432 with 0 Axes>"
      ]
     },
     "metadata": {},
     "output_type": "display_data"
    }
   ],
   "source": [
    "#Graph\n",
    "dfpmf_Earn74 = thinkstats2.Pmf(round(df[\"Earnings_1974\"],-3))\n",
    "\n",
    "thinkplot.PrePlot(cols=2)\n",
    "thinkplot.Pmfs([dfpmf_Earn74])\n",
    "#thinkplot.Show(xlabel=\"Earning_74\", ylabel = \"Percentage\")\n",
    "thinkplot.Show(xlabel=\"Earnings_1974\", ylabel = \"Density\")"
   ]
  },
  {
   "cell_type": "code",
   "execution_count": 51,
   "metadata": {},
   "outputs": [
    {
     "data": {
      "image/png": "[encoded data removed]",
      "text/plain": [
       "<Figure size 864x432 with 3 Axes>"
      ]
     },
     "metadata": {
      "needs_background": "light"
     },
     "output_type": "display_data"
    }
   ],
   "source": [
    "# 另一個同學版本的三年份薪水比較圖\n",
    "# 操作上簡單一點，用 HIST 其實就夠了\n",
    "\n",
    "earnings_1974 = df[\"Earnings_1974\"]\n",
    "earnings_1975 = df[\"Earnings_1975\"]\n",
    "earnings_1978 = df[\"Earnings_1978\"]\n",
    "\n",
    "earnings_1974_hist = thinkstats2.Hist(round(earnings_1974, -3), label='1974 Earnings')\n",
    "earnings_1975_hist = thinkstats2.Hist(round(earnings_1975, -3), label='1975 Earnings')\n",
    "earnings_1978_hist = thinkstats2.Hist(round(earnings_1978, -3), label='1978 Earnings')\n",
    "\n",
    "\n",
    "thinkplot.PrePlot(3, rows =1, cols=3)\n",
    "thinkplot.Hist(earnings_1974_hist)\n",
    "thinkplot.Config(xlabel='Earnings from 1974', ylabel='Count')\n",
    "\n",
    "thinkplot.SubPlot(2)\n",
    "thinkplot.Hist(earnings_1975_hist)\n",
    "thinkplot.Config(xlabel='Earnings from 1975', ylabel='Count')\n",
    "\n",
    "thinkplot.SubPlot(3)\n",
    "thinkplot.Hist(earnings_1978_hist)\n",
    "thinkplot.Config(xlabel='Earnings from 1978', ylabel='Count')"
   ]
  },
  {
   "cell_type": "code",
   "execution_count": 52,
   "metadata": {},
   "outputs": [
    {
     "data": {
      "image/png": "[encoded data removed]",
      "text/plain": [
       "<Figure size 864x432 with 2 Axes>"
      ]
     },
     "metadata": {
      "needs_background": "light"
     },
     "output_type": "display_data"
    },
    {
     "data": {
      "text/plain": [
       "<Figure size 576x432 with 0 Axes>"
      ]
     },
     "metadata": {},
     "output_type": "display_data"
    }
   ],
   "source": [
    "thinkplot.PrePlot(2,cols=2)\n",
    "thinkplot.Hist(earnings_1974_hist)\n",
    "thinkplot.Hist(earnings_1975_hist)\n",
    "thinkplot.Config(xlabel = 'earning', ylabel = 'count', axis = [100, 28000, 0, 1500])\n",
    "\n",
    "thinkplot.PrePlot(2)\n",
    "thinkplot.SubPlot(2)\n",
    "thinkplot.Pmfs([earnings_1974_hist, earnings_1975_hist])\n",
    "thinkplot.Show(xlabel = 'earning', ylabel = 'count', axis = [100, 30000, 0, 1500])"
   ]
  },
  {
   "cell_type": "code",
   "execution_count": 53,
   "metadata": {},
   "outputs": [
    {
     "data": {
      "text/html": [
       "<div>\n",
       "<style scoped>\n",
       "    .dataframe tbody tr th:only-of-type {\n",
       "        vertical-align: middle;\n",
       "    }\n",
       "\n",
       "    .dataframe tbody tr th {\n",
       "        vertical-align: top;\n",
       "    }\n",
       "\n",
       "    .dataframe thead th {\n",
       "        text-align: right;\n",
       "    }\n",
       "</style>\n",
       "<table border=\"1\" class=\"dataframe\">\n",
       "  <thead>\n",
       "    <tr style=\"text-align: right;\">\n",
       "      <th></th>\n",
       "      <th>mean</th>\n",
       "    </tr>\n",
       "    <tr>\n",
       "      <th>Nodeg</th>\n",
       "      <th></th>\n",
       "    </tr>\n",
       "  </thead>\n",
       "  <tbody>\n",
       "    <tr>\n",
       "      <th>0</th>\n",
       "      <td>15796.747484</td>\n",
       "    </tr>\n",
       "    <tr>\n",
       "      <th>1</th>\n",
       "      <td>12585.205679</td>\n",
       "    </tr>\n",
       "  </tbody>\n",
       "</table>\n",
       "</div>"
      ],
      "text/plain": [
       "               mean\n",
       "Nodeg              \n",
       "0      15796.747484\n",
       "1      12585.205679"
      ]
     },
     "execution_count": 53,
     "metadata": {},
     "output_type": "execute_result"
    }
   ],
   "source": [
    "# Calcualting Effect Size of Nodeg\n",
    "df_Nodeg.Earnings_1978.agg(['mean'])"
   ]
  },
  {
   "cell_type": "code",
   "execution_count": 54,
   "metadata": {},
   "outputs": [],
   "source": [
    "dfNodeg = df[df[\"Nodeg\"]==1]\n",
    "dfdeg = df[df[\"Nodeg\"]==0]"
   ]
  },
  {
   "cell_type": "code",
   "execution_count": 55,
   "metadata": {},
   "outputs": [],
   "source": [
    "# 計算兩組的 Cohen 效應大小。\n",
    "\n",
    "def CohenEffectSize(group1, group2):\n",
    "    \"\"\"Computes Cohen's effect size for two groups.\n",
    "    \n",
    "    group1: Series or DataFrame\n",
    "    group2: Series or DataFrame\n",
    "    \n",
    "    returns: float if the arguments are Series;\n",
    "             Series if the arguments are DataFrames\n",
    "    \"\"\"\n",
    "    diff = group1.mean() - group2.mean()\n",
    "\n",
    "    var1 = group1.var()\n",
    "    var2 = group2.var()\n",
    "    n1, n2 = len(group1), len(group2)\n",
    "\n",
    "    pooled_var = (n1 * var1 + n2 * var2) / (n1 + n2)\n",
    "    d = diff / np.sqrt(pooled_var)\n",
    "    return d"
   ]
  },
  {
   "cell_type": "code",
   "execution_count": 56,
   "metadata": {},
   "outputs": [
    {
     "name": "stdout",
     "output_type": "stream",
     "text": [
      "Nodeg effect size on mean : 0.2222556400531736\n"
     ]
    }
   ],
   "source": [
    "print(\"Nodeg effect size on mean :\" , CohenEffectSize(dfdeg[\"Earnings_1978\"], dfNodeg[\"Earnings_1978\"]))"
   ]
  },
  {
   "cell_type": "code",
   "execution_count": 57,
   "metadata": {},
   "outputs": [],
   "source": [
    "# Calcualting Effect Size of MaritalStatus\n",
    "Married = df[df[\"MaritalStatus\"]==\"Married\"]\n",
    "NotMarried = df[df[\"MaritalStatus\"]==\"NotMarried\"]"
   ]
  },
  {
   "cell_type": "code",
   "execution_count": 58,
   "metadata": {},
   "outputs": [
    {
     "name": "stdout",
     "output_type": "stream",
     "text": [
      "MaritalStatus on mean : 0.4126176966416453\n"
     ]
    }
   ],
   "source": [
    "print(\"MaritalStatus on mean :\" , CohenEffectSize(Married[\"Earnings_1978\"], NotMarried[\"Earnings_1978\"]))"
   ]
  },
  {
   "cell_type": "code",
   "execution_count": 59,
   "metadata": {},
   "outputs": [],
   "source": [
    "NotBlack = df[df[\"Race\"]==\"NotBlack\"]\n",
    "black = df[df[\"Race\"]==\"black\"]"
   ]
  },
  {
   "cell_type": "code",
   "execution_count": 60,
   "metadata": {},
   "outputs": [
    {
     "name": "stdout",
     "output_type": "stream",
     "text": [
      "Race on mean : 0.21771671259892947\n"
     ]
    }
   ],
   "source": [
    "print(\"Race on mean :\" , CohenEffectSize(NotBlack[\"Earnings_1978\"], black[\"Earnings_1978\"]))"
   ]
  },
  {
   "cell_type": "markdown",
   "metadata": {},
   "source": [
    "In conclusion, Marital status has more effectsize on the mean than Nodeg\n",
    "\n",
    "Average Earning using Mean and Median\n",
    "\n",
    "Make and plot a graph or graph of your choosing of the 3 earnings values, in order to answer the below question. Identify how the graph gave you your answer."
   ]
  },
  {
   "cell_type": "code",
   "execution_count": 61,
   "metadata": {},
   "outputs": [
    {
     "name": "stdout",
     "output_type": "stream",
     "text": [
      "Median Earning 1978 : 12348.62\n",
      "Median Earning 1975 : 10618.40\n",
      "Median Earning 1974 : 10715.23\n"
     ]
    }
   ],
   "source": [
    "print(\"Median Earning 1978 : %.2f\" % np.median(df[\"Earnings_1978\"]))\n",
    "print(\"Median Earning 1975 : %.2f\" %  np.median(df[\"Earnings_1975\"]))\n",
    "print(\"Median Earning 1974 : %.2f\" %  np.median(df[\"Earnings_1974\"]))"
   ]
  },
  {
   "cell_type": "code",
   "execution_count": 62,
   "metadata": {},
   "outputs": [
    {
     "name": "stdout",
     "output_type": "stream",
     "text": [
      "Mean Earning 1978 : 11729.79\n",
      "Mean Earning 1975 : 10626.42\n",
      "Mean Earning 1974 : 10738.15\n"
     ]
    }
   ],
   "source": [
    "print(\"Mean Earning 1978 : %.2f\" % np.mean(df[\"Earnings_1978\"]))\n",
    "print(\"Mean Earning 1975 : %.2f\" %  np.mean(df[\"Earnings_1975\"]))\n",
    "print(\"Mean Earning 1974 : %.2f\" %  np.mean(df[\"Earnings_1974\"]))"
   ]
  },
  {
   "cell_type": "markdown",
   "metadata": {},
   "source": [
    "The median is better estimate for average income when the data has oultiers. While the mean is good when there are no outliers. in this case, the outliers have been removed and the average income using median and mean are very close. In the case of outliers in data, the mean will compute the averages for all the data while the median will chose the value in the center."
   ]
  },
  {
   "cell_type": "markdown",
   "metadata": {},
   "source": [
    "當數據有 oultiers 時，中位數是對平均收入的更好估計。 當沒有異常值時，均值很好。 在這種情況下，異常值已被移除，使用中位數和均值的平均收入非常接近。 在數據中存在異常值的情況下，平均值將計算所有數據的平均值，而中值將選擇中心值。"
   ]
  },
  {
   "cell_type": "code",
   "execution_count": 63,
   "metadata": {},
   "outputs": [
    {
     "name": "stdout",
     "output_type": "stream",
     "text": [
      "                 Races  AV_Income_1978\n",
      "0  NotBlackNotHispanic        12639.00\n",
      "1                black         9527.64\n",
      "2             hispanic        11770.09\n"
     ]
    }
   ],
   "source": [
    "df_r = df.groupby('Races', as_index=False ).agg({\"Earnings_1978\":\"median\"})\n",
    "print(df_r.rename(columns={\"Earnings_1978\": \"AV_Income_1978\"}))"
   ]
  },
  {
   "cell_type": "code",
   "execution_count": 64,
   "metadata": {},
   "outputs": [
    {
     "name": "stdout",
     "output_type": "stream",
     "text": [
      "                 Races  Av_Income_1975\n",
      "0  NotBlackNotHispanic       10741.940\n",
      "1                black        9110.055\n",
      "2             hispanic       10938.870\n"
     ]
    }
   ],
   "source": [
    "df_r2 = df.groupby('Races', as_index=False ).agg({\"Earnings_1975\":\"median\"})\n",
    "print(df_r2.rename(columns={\"Earnings_1975\": \"Av_Income_1975\"}))"
   ]
  },
  {
   "cell_type": "code",
   "execution_count": 65,
   "metadata": {},
   "outputs": [
    {
     "name": "stdout",
     "output_type": "stream",
     "text": [
      "                 Races  Av_Income_1974\n",
      "0  NotBlackNotHispanic        10866.09\n",
      "1                black         9708.17\n",
      "2             hispanic        10646.66\n"
     ]
    }
   ],
   "source": [
    "df_r3 = df.groupby('Races', as_index=False ).agg({\"Earnings_1974\":\"median\"})\n",
    "print(df_r3.rename(columns={\"Earnings_1974\": \"Av_Income_1974\"}))"
   ]
  },
  {
   "cell_type": "code",
   "execution_count": 66,
   "metadata": {},
   "outputs": [
    {
     "data": {
      "text/plain": [
       "[                 Races  Earnings_1978\n",
       " 0  NotBlackNotHispanic       12639.00\n",
       " 1                black        9527.64\n",
       " 2             hispanic       11770.09,\n",
       "                  Races  Earnings_1975\n",
       " 0  NotBlackNotHispanic      10741.940\n",
       " 1                black       9110.055\n",
       " 2             hispanic      10938.870,\n",
       "                  Races  Earnings_1974\n",
       " 0  NotBlackNotHispanic       10866.09\n",
       " 1                black        9708.17\n",
       " 2             hispanic       10646.66]"
      ]
     },
     "execution_count": 66,
     "metadata": {},
     "output_type": "execute_result"
    }
   ],
   "source": [
    "dfrs = [df_r, df_r2, df_r3]\n",
    "dfrs"
   ]
  },
  {
   "cell_type": "code",
   "execution_count": 67,
   "metadata": {},
   "outputs": [],
   "source": [
    "from functools import reduce\n",
    "final_df = reduce(lambda  left,right: pd.merge(left,right,on=['Races'],how='outer'), dfrs)"
   ]
  },
  {
   "cell_type": "markdown",
   "metadata": {},
   "source": [
    "Race has a strong impact on earnings between 1974 and 1978. NotHispanic and NotBlack worker (predominantly white) had higher earnings than any other group. However, the gap between hispanic and black earning shrinked in 1978. Also, there was a general decline in earning between 1974 and 1975, except for hispanic population with a sharp rise between 1975 and 1978"
   ]
  },
  {
   "cell_type": "code",
   "execution_count": 68,
   "metadata": {},
   "outputs": [
    {
     "name": "stdout",
     "output_type": "stream",
     "text": [
      "                 Races  Earnings_1978  Earnings_1975  Earnings_1974\n",
      "0  NotBlackNotHispanic       12639.00      10741.940       10866.09\n",
      "1                black        9527.64       9110.055        9708.17\n",
      "2             hispanic       11770.09      10938.870       10646.66\n"
     ]
    }
   ],
   "source": [
    "# Ploting the chart. The chart would have been been better if it a time series of have more years\n",
    "print(final_df)"
   ]
  },
  {
   "cell_type": "code",
   "execution_count": 69,
   "metadata": {},
   "outputs": [],
   "source": [
    "df_hisp = df[df[\"Races\"]=='hispanic']\n",
    "df_black = df[df['Races']==\"black\"]\n",
    "df_nhb = df[df['Races']==\"NotBlackNotHispanic\"] "
   ]
  },
  {
   "cell_type": "code",
   "execution_count": 70,
   "metadata": {},
   "outputs": [],
   "source": [
    "# putting the years in data frame and median earning and rounding to 2 decimal places\n",
    "\n",
    "Data = {'Year': [1974,1975,1978],\n",
    "        'Earning': [round(df_black[\"Earnings_1974\"].median(),2),round(df_black[\"Earnings_1975\"].median(),2),round(df_black[\"Earnings_1978\"].median(),2)]\n",
    "  }\n",
    "\n",
    "df_Earning_black = pd.DataFrame(Data,columns=['Year','Earning'])"
   ]
  },
  {
   "cell_type": "code",
   "execution_count": 71,
   "metadata": {},
   "outputs": [],
   "source": [
    "# putting the years in data frame and median earning and rounding to 2 decimal places\n",
    "\n",
    "Data1 = {'Year': [1974,1975,1978],\n",
    "        'Earning': [round(df_hisp[\"Earnings_1974\"].median(),2),round(df_hisp[\"Earnings_1975\"].median(),2),round(df_hisp[\"Earnings_1978\"].median(),2)]\n",
    "  }\n",
    "\n",
    "df_Earning_hisp = pd.DataFrame(Data1,columns=['Year','Earning'])"
   ]
  },
  {
   "cell_type": "code",
   "execution_count": 72,
   "metadata": {},
   "outputs": [],
   "source": [
    "Data2 = {'Year': [1974,1975,1978],\n",
    "        'Earning': [round(df_nhb[\"Earnings_1974\"].median(),2),round(df_nhb[\"Earnings_1975\"].median(),2),round(df_nhb[\"Earnings_1978\"].median(),2)]\n",
    "  }\n",
    "\n",
    "df_Earning_nhb = pd.DataFrame(Data2,columns=['Year','Earning'])"
   ]
  },
  {
   "cell_type": "code",
   "execution_count": 73,
   "metadata": {},
   "outputs": [
    {
     "data": {
      "image/png": "[encoded data removed]",
      "text/plain": [
       "<Figure size 432x288 with 1 Axes>"
      ]
     },
     "metadata": {
      "needs_background": "light"
     },
     "output_type": "display_data"
    }
   ],
   "source": [
    "plt.plot(df_Earning_black['Year'], df_Earning_black['Earning'],label = \"black\", color='red', marker='o')\n",
    "plt.plot(df_Earning_hisp['Year'], df_Earning_hisp['Earning'],label = \"Hispanic\", color='green', marker='o')\n",
    "plt.plot(df_Earning_nhb['Year'], df_Earning_nhb['Earning'], label =\"NotHispanicNotBlack\", color='blue', marker='o')\n",
    "plt.title('Earning Vs Year', fontsize=14)\n",
    "plt.xlabel('Year', fontsize=14)\n",
    "plt.ylabel('Earning', fontsize=14)\n",
    "plt.axis([1973, 1979, 8000, 13000]) # setting axis scale X and Y\n",
    "plt.legend(loc='upper center')\n",
    "plt.grid(True)\n",
    "plt.show()"
   ]
  }
 ],
 "metadata": {
  "kernelspec": {
   "display_name": "Python 3.9.12 ('base')",
   "language": "python",
   "name": "python3"
  },
  "language_info": {
   "codemirror_mode": {
    "name": "ipython",
    "version": 3
   },
   "file_extension": ".py",
   "mimetype": "text/x-python",
   "name": "python",
   "nbconvert_exporter": "python",
   "pygments_lexer": "ipython3",
   "version": "3.9.12"
  },
  "orig_nbformat": 4,
  "vscode": {
   "interpreter": {
    "hash": "40846f95e88ae24f681f7d79d7396bca459ce37b2ecada686cfbc3bbe9daaf0c"
   }
  }
 },
 "nbformat": 4,
 "nbformat_minor": 2
}
