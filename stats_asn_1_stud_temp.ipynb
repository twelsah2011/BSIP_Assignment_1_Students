{
 "cells": [
  {
   "cell_type": "code",
   "execution_count": 1,
   "metadata": {},
   "outputs": [],
   "source": [
    "import thinkplot\n",
    "import thinkstats2\n",
    "import pandas as pd\n",
    "import numpy as np\n",
    "import scipy\n",
    "import seaborn as sns\n",
    "from matplotlib import pyplot as plt"
   ]
  },
  {
   "cell_type": "markdown",
   "metadata": {},
   "source": [
    "# Assignment #1 - Basic Data Exploration in Python\n",
    "\n",
    "## Assignment Overview\n",
    "\n",
    "In this assignment you'll load some data into a python notebook, and use some basic functions to do some basic analysis. Each section asks you to either calculate some answers or explore some information found in the data. When generating your answers, try to think about a few factors that can make your code better:\n",
    "<ul>\n",
    "<li> Present the answers clearly. Use the markdown cells, code comments, and formatting to help make your answers readable. One of the features of notebooks is that they allow us to combine code and commentary, and we need to ensure both are readable. Refer to the guide in the guides folder of the exercises workbook for an explaination and examples of different formatting. \n",
    "<li> Make your code clear. It is easy to make sense of small pieces of code, for short periods of time, so if your code makes little sense here, it won't really hurt your ability to find the answers. If you need to come back to it later, or others need to edit it, having code that doesn't make sense is a big issue. Use things like clearly named variables, comments, and spacing to make things readable. Even in this course, if you are looking back to something from 2 months ago for the project, it is far easier to understand code that is cleaned up a little. \n",
    "<li> Structure the code well. If there is some kind of repetitive task, it should likely be moved into a function. If there is something that happens several times, it should be in a loop. Having well structured code makes it easy to reuse stuff later, understand how things work, debug errors, and share code with others. This is something to keep in the back of your minds, right now you may not have much experience to lean on to judge how things should be, as you read, adjust, and write code it will become more clear. \n",
    "</ul>\n",
    "\n",
    "## Peer Evaluation\n",
    "\n",
    "This assignemnt will have a peer evaluation for the grade - you'll each read some other notebooks and evaluate their answers. The reason for this is not (entirely) my personal laziness, we are hoping to accomplish a couple of things:\n",
    "<ul>\n",
    "<li> Quick experience reading notebooks. One of the important skills we need to have is the ability to read examples that we find and adapting it to our scenario. This is practice with data you're now comfortable with.\n",
    "<li> Critically evaluating what makes sense in a data notebook. You know how you attempted to explain your look at the data, how did other people do it? What was better? What was worse?\n",
    "<li> Design is subjective. This will give you a set of opinions that are not mine. You will end up with plenty of feedback of what I think, feadback of others early-on should hopefully help you make things appealing to all and not tailored to me. \n",
    "</ul>\n",
    "Doing this right up front will hopefully help kickstart some of that expericence. \n",
    "\n",
    "### Grading\n",
    "\n",
    "The detailed grading is defined in the marking guide in the Moodle workshop. Note that there's points both for getting a correct answer and for presenting it in a way that makes sense. \n",
    "\n",
    "## Structure\n",
    "\n",
    "Each section contains a set of questions/prompts and a rough framework for your responses. You can change the structure around, just make sure it is readable. What I have there is just a loose guide to help get you started, you're not bound to it. "
   ]
  },
  {
   "cell_type": "markdown",
   "metadata": {},
   "source": [
    "## Load Data\n",
    "\n",
    "Load the labor data into a dataframe. You probably don't want to change this section. "
   ]
  },
  {
   "cell_type": "code",
   "execution_count": 2,
   "metadata": {},
   "outputs": [
    {
     "data": {
      "text/html": [
       "<div>\n",
       "<style scoped>\n",
       "    .dataframe tbody tr th:only-of-type {\n",
       "        vertical-align: middle;\n",
       "    }\n",
       "\n",
       "    .dataframe tbody tr th {\n",
       "        vertical-align: top;\n",
       "    }\n",
       "\n",
       "    .dataframe thead th {\n",
       "        text-align: right;\n",
       "    }\n",
       "</style>\n",
       "<table border=\"1\" class=\"dataframe\">\n",
       "  <thead>\n",
       "    <tr style=\"text-align: right;\">\n",
       "      <th></th>\n",
       "      <th>Age</th>\n",
       "      <th>Eduacation</th>\n",
       "      <th>Race</th>\n",
       "      <th>Hisp</th>\n",
       "      <th>MaritalStatus</th>\n",
       "      <th>Nodeg</th>\n",
       "      <th>Earnings_1974</th>\n",
       "      <th>Earnings_1975</th>\n",
       "      <th>Earnings_1978</th>\n",
       "    </tr>\n",
       "  </thead>\n",
       "  <tbody>\n",
       "    <tr>\n",
       "      <th>0</th>\n",
       "      <td>45</td>\n",
       "      <td>LessThanHighSchool</td>\n",
       "      <td>NotBlack</td>\n",
       "      <td>NotHispanic</td>\n",
       "      <td>Married</td>\n",
       "      <td>1</td>\n",
       "      <td>21516.670</td>\n",
       "      <td>25243.550</td>\n",
       "      <td>25564.670</td>\n",
       "    </tr>\n",
       "    <tr>\n",
       "      <th>1</th>\n",
       "      <td>21</td>\n",
       "      <td>Intermediate</td>\n",
       "      <td>NotBlack</td>\n",
       "      <td>NotHispanic</td>\n",
       "      <td>NotMarried</td>\n",
       "      <td>0</td>\n",
       "      <td>3175.971</td>\n",
       "      <td>5852.565</td>\n",
       "      <td>13496.080</td>\n",
       "    </tr>\n",
       "    <tr>\n",
       "      <th>2</th>\n",
       "      <td>38</td>\n",
       "      <td>HighSchool</td>\n",
       "      <td>NotBlack</td>\n",
       "      <td>NotHispanic</td>\n",
       "      <td>Married</td>\n",
       "      <td>0</td>\n",
       "      <td>23039.020</td>\n",
       "      <td>25130.760</td>\n",
       "      <td>25564.670</td>\n",
       "    </tr>\n",
       "    <tr>\n",
       "      <th>3</th>\n",
       "      <td>48</td>\n",
       "      <td>LessThanHighSchool</td>\n",
       "      <td>NotBlack</td>\n",
       "      <td>NotHispanic</td>\n",
       "      <td>Married</td>\n",
       "      <td>1</td>\n",
       "      <td>24994.370</td>\n",
       "      <td>25243.550</td>\n",
       "      <td>25564.670</td>\n",
       "    </tr>\n",
       "    <tr>\n",
       "      <th>4</th>\n",
       "      <td>18</td>\n",
       "      <td>LessThanHighSchool</td>\n",
       "      <td>NotBlack</td>\n",
       "      <td>NotHispanic</td>\n",
       "      <td>Married</td>\n",
       "      <td>1</td>\n",
       "      <td>1669.295</td>\n",
       "      <td>10727.610</td>\n",
       "      <td>9860.869</td>\n",
       "    </tr>\n",
       "  </tbody>\n",
       "</table>\n",
       "</div>"
      ],
      "text/plain": [
       "   Age          Eduacation      Race         Hisp MaritalStatus  Nodeg  \\\n",
       "0   45  LessThanHighSchool  NotBlack  NotHispanic       Married      1   \n",
       "1   21        Intermediate  NotBlack  NotHispanic    NotMarried      0   \n",
       "2   38          HighSchool  NotBlack  NotHispanic       Married      0   \n",
       "3   48  LessThanHighSchool  NotBlack  NotHispanic       Married      1   \n",
       "4   18  LessThanHighSchool  NotBlack  NotHispanic       Married      1   \n",
       "\n",
       "   Earnings_1974  Earnings_1975  Earnings_1978  \n",
       "0      21516.670      25243.550      25564.670  \n",
       "1       3175.971       5852.565      13496.080  \n",
       "2      23039.020      25130.760      25564.670  \n",
       "3      24994.370      25243.550      25564.670  \n",
       "4       1669.295      10727.610       9860.869  "
      ]
     },
     "execution_count": 2,
     "metadata": {},
     "output_type": "execute_result"
    }
   ],
   "source": [
    "#Load/preview data\n",
    "df = pd.read_csv(\"LabourTrainingEvaluationData.csv\")\n",
    "df.head()"
   ]
  },
  {
   "cell_type": "code",
   "execution_count": 3,
   "metadata": {},
   "outputs": [
    {
     "data": {
      "text/html": [
       "<div>\n",
       "<style scoped>\n",
       "    .dataframe tbody tr th:only-of-type {\n",
       "        vertical-align: middle;\n",
       "    }\n",
       "\n",
       "    .dataframe tbody tr th {\n",
       "        vertical-align: top;\n",
       "    }\n",
       "\n",
       "    .dataframe thead th {\n",
       "        text-align: right;\n",
       "    }\n",
       "</style>\n",
       "<table border=\"1\" class=\"dataframe\">\n",
       "  <thead>\n",
       "    <tr style=\"text-align: right;\">\n",
       "      <th></th>\n",
       "      <th>Age</th>\n",
       "      <th>Nodeg</th>\n",
       "      <th>Earnings_1974</th>\n",
       "      <th>Earnings_1975</th>\n",
       "      <th>Earnings_1978</th>\n",
       "    </tr>\n",
       "  </thead>\n",
       "  <tbody>\n",
       "    <tr>\n",
       "      <th>count</th>\n",
       "      <td>15992.000000</td>\n",
       "      <td>15992.000000</td>\n",
       "      <td>15992.000000</td>\n",
       "      <td>15992.000000</td>\n",
       "      <td>15992.000000</td>\n",
       "    </tr>\n",
       "    <tr>\n",
       "      <th>mean</th>\n",
       "      <td>33.225238</td>\n",
       "      <td>0.295835</td>\n",
       "      <td>14016.800304</td>\n",
       "      <td>13650.803376</td>\n",
       "      <td>14846.659673</td>\n",
       "    </tr>\n",
       "    <tr>\n",
       "      <th>std</th>\n",
       "      <td>11.045216</td>\n",
       "      <td>0.456432</td>\n",
       "      <td>9569.795893</td>\n",
       "      <td>9270.403225</td>\n",
       "      <td>9647.391524</td>\n",
       "    </tr>\n",
       "    <tr>\n",
       "      <th>min</th>\n",
       "      <td>16.000000</td>\n",
       "      <td>0.000000</td>\n",
       "      <td>0.000000</td>\n",
       "      <td>0.000000</td>\n",
       "      <td>0.000000</td>\n",
       "    </tr>\n",
       "    <tr>\n",
       "      <th>25%</th>\n",
       "      <td>24.000000</td>\n",
       "      <td>0.000000</td>\n",
       "      <td>4403.452250</td>\n",
       "      <td>4398.823000</td>\n",
       "      <td>5669.298000</td>\n",
       "    </tr>\n",
       "    <tr>\n",
       "      <th>50%</th>\n",
       "      <td>31.000000</td>\n",
       "      <td>0.000000</td>\n",
       "      <td>15123.580000</td>\n",
       "      <td>14557.110000</td>\n",
       "      <td>16421.975000</td>\n",
       "    </tr>\n",
       "    <tr>\n",
       "      <th>75%</th>\n",
       "      <td>42.000000</td>\n",
       "      <td>1.000000</td>\n",
       "      <td>23584.180000</td>\n",
       "      <td>22923.737500</td>\n",
       "      <td>25564.670000</td>\n",
       "    </tr>\n",
       "    <tr>\n",
       "      <th>max</th>\n",
       "      <td>55.000000</td>\n",
       "      <td>1.000000</td>\n",
       "      <td>25862.320000</td>\n",
       "      <td>25243.550000</td>\n",
       "      <td>25564.670000</td>\n",
       "    </tr>\n",
       "  </tbody>\n",
       "</table>\n",
       "</div>"
      ],
      "text/plain": [
       "                Age         Nodeg  Earnings_1974  Earnings_1975  Earnings_1978\n",
       "count  15992.000000  15992.000000   15992.000000   15992.000000   15992.000000\n",
       "mean      33.225238      0.295835   14016.800304   13650.803376   14846.659673\n",
       "std       11.045216      0.456432    9569.795893    9270.403225    9647.391524\n",
       "min       16.000000      0.000000       0.000000       0.000000       0.000000\n",
       "25%       24.000000      0.000000    4403.452250    4398.823000    5669.298000\n",
       "50%       31.000000      0.000000   15123.580000   14557.110000   16421.975000\n",
       "75%       42.000000      1.000000   23584.180000   22923.737500   25564.670000\n",
       "max       55.000000      1.000000   25862.320000   25243.550000   25564.670000"
      ]
     },
     "execution_count": 3,
     "metadata": {},
     "output_type": "execute_result"
    }
   ],
   "source": [
    "df.describe()"
   ]
  },
  {
   "cell_type": "markdown",
   "metadata": {},
   "source": [
    "## Part 1 - Age\n",
    "\n",
    "<ol>\n",
    "<li> Make and plot a Hist and Pmf for age.\n",
    "<li> What fraction of the people in the data are 51? What fraction are older than 51?\n",
    "<li> What is the median age? \n",
    "<li> Does the distribution of the sample data seem to mirror the working age population?\n",
    "</ol>"
   ]
  },
  {
   "cell_type": "markdown",
   "metadata": {},
   "source": [
    "#### Make and plot a Hist and Pmf for age."
   ]
  },
  {
   "cell_type": "code",
   "execution_count": 21,
   "metadata": {},
   "outputs": [
    {
     "data": {
      "text/plain": [
       "Hist({18: 461, 21: 444, 19: 436, 20: 412, 28: 412, 25: 403, 24: 401, 26: 394, 23: 394, 17: 387, 22: 383, 29: 376, 27: 372, 16: 335, 31: 262, 30: 260, 32: 239, 33: 238, 34: 230, 35: 221, 55: 217, 36: 217, 42: 202, 53: 197, 38: 196, 41: 192, 45: 192, 37: 188, 52: 187, 54: 186, 51: 183, 47: 182, 48: 182, 40: 181, 50: 181, 39: 179, 49: 177, 46: 174, 43: 172, 44: 161}, 'Age')"
      ]
     },
     "execution_count": 21,
     "metadata": {},
     "output_type": "execute_result"
    },
    {
     "data": {
      "image/png": "[encoded data removed]",
      "text/plain": [
       "<Figure size 432x288 with 1 Axes>"
      ]
     },
     "metadata": {
      "needs_background": "light"
     },
     "output_type": "display_data"
    }
   ],
   "source": [
    "age_hist = thinkstats2.Hist((df[\"Age\"]), label='Age')\n",
    "thinkplot.Hist(age_hist)\n",
    "thinkplot.config()\n",
    "thinkplot.Config(xlabel='Age', ylabel='count')\n",
    "age_hist"
   ]
  },
  {
   "cell_type": "code",
   "execution_count": 24,
   "metadata": {},
   "outputs": [
    {
     "ename": "TypeError",
     "evalue": "unsupported operand type(s) for -: 'str' and 'float'",
     "output_type": "error",
     "traceback": [
      "\u001b[1;31m---------------------------------------------------------------------------\u001b[0m",
      "\u001b[1;31mTypeError\u001b[0m                                 Traceback (most recent call last)",
      "\u001b[1;32md:\\Documents\\2022 Data Analytics\\DATA3450 Statistical Learning\\BSIP_Assignment_1_Students\\stats_asn_1_stud_temp.ipynb Cell 9\u001b[0m in \u001b[0;36m<cell line: 2>\u001b[1;34m()\u001b[0m\n\u001b[0;32m      <a href='vscode-notebook-cell:/d%3A/Documents/2022%20Data%20Analytics/DATA3450%20Statistical%20Learning/BSIP_Assignment_1_Students/stats_asn_1_stud_temp.ipynb#X11sZmlsZQ%3D%3D?line=0'>1</a>\u001b[0m age_pmg \u001b[39m=\u001b[39m thinkstats2\u001b[39m.\u001b[39mPmf(df)\n\u001b[1;32m----> <a href='vscode-notebook-cell:/d%3A/Documents/2022%20Data%20Analytics/DATA3450%20Statistical%20Learning/BSIP_Assignment_1_Students/stats_asn_1_stud_temp.ipynb#X11sZmlsZQ%3D%3D?line=1'>2</a>\u001b[0m thinkplot\u001b[39m.\u001b[39;49mPmf(age_pmg)\n\u001b[0;32m      <a href='vscode-notebook-cell:/d%3A/Documents/2022%20Data%20Analytics/DATA3450%20Statistical%20Learning/BSIP_Assignment_1_Students/stats_asn_1_stud_temp.ipynb#X11sZmlsZQ%3D%3D?line=2'>3</a>\u001b[0m thinkplot\u001b[39m.\u001b[39mconfing()\n",
      "File \u001b[1;32md:\\Documents\\2022 Data Analytics\\DATA3450 Statistical Learning\\BSIP_Assignment_1_Students\\thinkplot.py:473\u001b[0m, in \u001b[0;36mPmf\u001b[1;34m(pmf, **options)\u001b[0m\n\u001b[0;32m    471\u001b[0m lasty \u001b[39m=\u001b[39m \u001b[39m0\u001b[39m\n\u001b[0;32m    472\u001b[0m \u001b[39mfor\u001b[39;00m x, y \u001b[39min\u001b[39;00m \u001b[39mzip\u001b[39m(xs, ys):\n\u001b[1;32m--> 473\u001b[0m     \u001b[39mif\u001b[39;00m (x \u001b[39m-\u001b[39;49m lastx) \u001b[39m>\u001b[39m \u001b[39m1e-5\u001b[39m:\n\u001b[0;32m    474\u001b[0m         points\u001b[39m.\u001b[39mappend((lastx, \u001b[39m0\u001b[39m))\n\u001b[0;32m    475\u001b[0m         points\u001b[39m.\u001b[39mappend((x, \u001b[39m0\u001b[39m))\n",
      "\u001b[1;31mTypeError\u001b[0m: unsupported operand type(s) for -: 'str' and 'float'"
     ]
    }
   ],
   "source": [
    "age_pmg = thinkstats2.Pmf(df)\n",
    "thinkplot.Pmf(age_pmg)\n",
    "thinkplot.confing()"
   ]
  },
  {
   "cell_type": "markdown",
   "metadata": {},
   "source": [
    "#### What fraction of the people in the data are 51? What fraction are older than 51?"
   ]
  },
  {
   "cell_type": "code",
   "execution_count": 6,
   "metadata": {},
   "outputs": [
    {
     "data": {
      "text/plain": [
       "Age  Eduacation          Race      Hisp         MaritalStatus  Nodeg  Earnings_1974  Earnings_1975  Earnings_1978\n",
       "51   HighSchool          NotBlack  NotHispanic  Married        0      25862.320      25243.550      25564.670        22\n",
       "     LessThanHighSchool  NotBlack  NotHispanic  Married        1      25862.320      25243.550      25564.670        10\n",
       "     graduate            NotBlack  NotHispanic  Married        0      25862.320      25243.550      25564.670         9\n",
       "     HighSchool          NotBlack  NotHispanic  Married        0      0.000          0.000          0.000             6\n",
       "     Intermediate        NotBlack  NotHispanic  Married        0      25862.320      25243.550      25564.670         6\n",
       "                                                                                                                     ..\n",
       "     HighSchool          NotBlack  NotHispanic  NotMarried     0      19496.660      17043.870      17243.590         1\n",
       "                                                                      20742.760      2538.677       1019.631          1\n",
       "                                                                      25862.320      23274.190      25564.670         1\n",
       "                                                                                     25243.550      0.000             1\n",
       "     graduate            black     NotHispanic  Married        0      6126.627       7608.871       2500.313          1\n",
       "Length: 252, dtype: int64"
      ]
     },
     "execution_count": 6,
     "metadata": {},
     "output_type": "execute_result"
    }
   ],
   "source": [
    "age_list = df[df['Age'] == 51 ]\n",
    "age_list.value_counts()"
   ]
  },
  {
   "cell_type": "code",
   "execution_count": 7,
   "metadata": {},
   "outputs": [
    {
     "data": {
      "text/plain": [
       "Age  Eduacation          Race      Hisp         MaritalStatus  Nodeg  Earnings_1974  Earnings_1975  Earnings_1978\n",
       "54   HighSchool          NotBlack  NotHispanic  Married        0      25862.320      25243.55       25564.670        19\n",
       "52   HighSchool          NotBlack  NotHispanic  Married        0      25862.320      25243.55       25564.670        18\n",
       "53   HighSchool          NotBlack  NotHispanic  Married        0      25862.320      25243.55       25564.670        18\n",
       "55   HighSchool          NotBlack  NotHispanic  Married        0      25862.320      25243.55       25564.670        17\n",
       "     LessThanHighSchool  NotBlack  NotHispanic  Married        1      25862.320      25243.55       25564.670        15\n",
       "                                                                                                                     ..\n",
       "53   Intermediate        NotBlack  NotHispanic  Married        0      25862.320      25243.55       23989.410         1\n",
       "                                                                                                    24995.750         1\n",
       "                                                NotMarried     0      1673.214       21274.40       0.000             1\n",
       "                                                                      12121.980      18993.53       8244.237          1\n",
       "55   graduate            NotBlack  NotHispanic  NotMarried     0      21060.160      25243.55       23922.920         1\n",
       "Length: 931, dtype: int64"
      ]
     },
     "execution_count": 7,
     "metadata": {},
     "output_type": "execute_result"
    }
   ],
   "source": [
    "age_list = df[df['Age'] > 51 ]\n",
    "age_list.value_counts()"
   ]
  },
  {
   "cell_type": "markdown",
   "metadata": {},
   "source": [
    "##### What is the median age?"
   ]
  },
  {
   "cell_type": "code",
   "execution_count": 8,
   "metadata": {},
   "outputs": [
    {
     "data": {
      "text/plain": [
       "31.0"
      ]
     },
     "execution_count": 8,
     "metadata": {},
     "output_type": "execute_result"
    }
   ],
   "source": [
    "df['Age'].median ( )"
   ]
  },
  {
   "cell_type": "markdown",
   "metadata": {},
   "source": [
    "##### Does the distribution of the sample data seem to mirror the working age population?"
   ]
  },
  {
   "cell_type": "markdown",
   "metadata": {},
   "source": [
    "no, it seems not enough information."
   ]
  },
  {
   "cell_type": "markdown",
   "metadata": {},
   "source": [
    "### Part 2 - Demographics\n",
    "\n",
    "<ul>\n",
    "<li>Consider some of the demographic features: \n",
    "    <ul>\n",
    "    <li>Education\n",
    "    <li>Race\n",
    "    <li>Hisp\n",
    "    <li>MaritalStatus\n",
    "    <li>Nodeg. \n",
    "    </ul>\n",
    "</ul>\n",
    "<ol>\n",
    "<li>This data came from the United States, does it appear to be a representative sample of the US population?\n",
    "<li>Demonstrate this in some way in your code. \n",
    "</ol>\n",
    "\n",
    "##### Exploring the data..."
   ]
  },
  {
   "cell_type": "code",
   "execution_count": 9,
   "metadata": {},
   "outputs": [
    {
     "name": "stdout",
     "output_type": "stream",
     "text": [
      "Eduacation  Age  Race      Hisp         MaritalStatus  Nodeg  Earnings_1974  Earnings_1975  Earnings_1978\n",
      "HighSchool  33   NotBlack  NotHispanic  Married        0      25862.32       25243.55       25564.67         35\n",
      "            32   NotBlack  NotHispanic  Married        0      25862.32       25243.55       25564.67         31\n",
      "            34   NotBlack  NotHispanic  Married        0      25862.32       25243.55       25564.67         28\n",
      "            43   NotBlack  NotHispanic  Married        0      25862.32       25243.55       25564.67         27\n",
      "            29   NotBlack  NotHispanic  Married        0      25862.32       25243.55       25564.67         26\n",
      "                                                                                                             ..\n",
      "graduate    28   NotBlack  NotHispanic  NotMarried     0      16628.30       24740.47       21740.31          1\n",
      "                                                              16914.35       12344.27       25564.67          1\n",
      "                                                              17020.15       18762.58       15847.14          1\n",
      "                                                              18734.51       19075.89       23318.53          1\n",
      "            55   NotBlack  NotHispanic  NotMarried     0      21060.16       25243.55       23922.92          1\n",
      "Length: 13990, dtype: int64\n"
     ]
    }
   ],
   "source": [
    "print(df.groupby(['Eduacation']).value_counts())"
   ]
  },
  {
   "cell_type": "code",
   "execution_count": 10,
   "metadata": {},
   "outputs": [
    {
     "name": "stdout",
     "output_type": "stream",
     "text": [
      "Race      Age  Eduacation          Hisp         MaritalStatus  Nodeg  Earnings_1974  Earnings_1975  Earnings_1978\n",
      "NotBlack  33   HighSchool          NotHispanic  Married        0      25862.3200     25243.550      25564.670        35\n",
      "          32   HighSchool          NotHispanic  Married        0      25862.3200     25243.550      25564.670        31\n",
      "          34   HighSchool          NotHispanic  Married        0      25862.3200     25243.550      25564.670        28\n",
      "          43   HighSchool          NotHispanic  Married        0      25862.3200     25243.550      25564.670        27\n",
      "          29   HighSchool          NotHispanic  Married        0      25862.3200     25243.550      25564.670        26\n",
      "                                                                                                                     ..\n",
      "black     30   Intermediate        NotHispanic  Married        0      10278.3100     9553.161       12811.890         1\n",
      "                                                                      25862.3200     25243.550      24246.540         1\n",
      "               LessThanHighSchool  NotHispanic  Married        1      0.0000         3270.919       0.000             1\n",
      "                                                                      356.5866       3947.661       7329.524          1\n",
      "          55   LessThanHighSchool  NotHispanic  NotMarried     1      25640.9200     24264.240      1260.501          1\n",
      "Length: 13990, dtype: int64\n"
     ]
    }
   ],
   "source": [
    "print(df.groupby(['Race']).value_counts())\n"
   ]
  },
  {
   "cell_type": "code",
   "execution_count": 11,
   "metadata": {},
   "outputs": [
    {
     "name": "stdout",
     "output_type": "stream",
     "text": [
      "Hisp         Age  Eduacation          Race      MaritalStatus  Nodeg  Earnings_1974  Earnings_1975  Earnings_1978\n",
      "NotHispanic  33   HighSchool          NotBlack  Married        0      25862.32       25243.55       25564.670        35\n",
      "             32   HighSchool          NotBlack  Married        0      25862.32       25243.55       25564.670        31\n",
      "             34   HighSchool          NotBlack  Married        0      25862.32       25243.55       25564.670        28\n",
      "             43   HighSchool          NotBlack  Married        0      25862.32       25243.55       25564.670        27\n",
      "             42   HighSchool          NotBlack  Married        0      25862.32       25243.55       25564.670        26\n",
      "                                                                                                                     ..\n",
      "hispanic     31   LessThanHighSchool  NotBlack  Married        1      20327.39       18964.89       4028.283          1\n",
      "                                                                      23481.81       17919.34       21326.550         1\n",
      "                                                                      25862.32       25243.55       5179.432          1\n",
      "                                                                                                    25564.670         1\n",
      "             55   LessThanHighSchool  NotBlack  NotMarried     1      25862.32       25243.55       25564.670         1\n",
      "Length: 13990, dtype: int64\n"
     ]
    }
   ],
   "source": [
    "print(df.groupby(['Hisp']).value_counts())\n"
   ]
  },
  {
   "cell_type": "code",
   "execution_count": 12,
   "metadata": {},
   "outputs": [
    {
     "name": "stdout",
     "output_type": "stream",
     "text": [
      "MaritalStatus  Age  Eduacation    Race      Hisp         Nodeg  Earnings_1974  Earnings_1975  Earnings_1978\n",
      "Married        33   HighSchool    NotBlack  NotHispanic  0      25862.32       25243.55       25564.670        35\n",
      "               32   HighSchool    NotBlack  NotHispanic  0      25862.32       25243.55       25564.670        31\n",
      "               34   HighSchool    NotBlack  NotHispanic  0      25862.32       25243.55       25564.670        28\n",
      "               43   HighSchool    NotBlack  NotHispanic  0      25862.32       25243.55       25564.670        27\n",
      "               38   HighSchool    NotBlack  NotHispanic  0      25862.32       25243.55       25564.670        26\n",
      "                                                                                                               ..\n",
      "NotMarried     21   Intermediate  NotBlack  NotHispanic  0      11081.61       12206.42       18842.490         1\n",
      "                                                                11181.54       10530.68       7181.751          1\n",
      "                                                                11244.23       12310.26       1439.306          1\n",
      "                                                                11645.88       10630.94       12803.020         1\n",
      "               55   graduate      NotBlack  NotHispanic  0      21060.16       25243.55       23922.920         1\n",
      "Length: 13990, dtype: int64\n"
     ]
    }
   ],
   "source": [
    "print(df.groupby(['MaritalStatus']).value_counts())\n"
   ]
  },
  {
   "cell_type": "code",
   "execution_count": 13,
   "metadata": {},
   "outputs": [
    {
     "name": "stdout",
     "output_type": "stream",
     "text": [
      "Nodeg  Age  Eduacation          Race      Hisp         MaritalStatus  Earnings_1974  Earnings_1975  Earnings_1978\n",
      "0      33   HighSchool          NotBlack  NotHispanic  Married        25862.32       25243.55       25564.670        35\n",
      "       32   HighSchool          NotBlack  NotHispanic  Married        25862.32       25243.55       25564.670        31\n",
      "       34   HighSchool          NotBlack  NotHispanic  Married        25862.32       25243.55       25564.670        28\n",
      "       43   HighSchool          NotBlack  NotHispanic  Married        25862.32       25243.55       25564.670        27\n",
      "       38   HighSchool          NotBlack  NotHispanic  Married        25862.32       25243.55       25564.670        26\n",
      "                                                                                                                     ..\n",
      "1      31   LessThanHighSchool  NotBlack  hispanic     Married        25862.32       25243.55       25564.670         1\n",
      "                                                       NotMarried     0.00           0.00           1161.493          1\n",
      "                                                                      25862.32       25243.55       14459.550         1\n",
      "                                black     NotHispanic  Married        0.00           0.00           0.000             1\n",
      "       55   LessThanHighSchool  black     NotHispanic  NotMarried     25640.92       24264.24       1260.501          1\n",
      "Length: 13990, dtype: int64\n"
     ]
    }
   ],
   "source": [
    "print(df.groupby(['Nodeg']).value_counts())"
   ]
  },
  {
   "cell_type": "markdown",
   "metadata": {},
   "source": [
    "##### Demographic Conclusion\n",
    "\n",
    "Part 3 - Earnings\n",
    "\n",
    "1 Make and plot a graph or graph of your choosing of the 3 earnings values, in order to answer the below question. Identify how the graph gave you your answer.\n",
    "\n",
    "    <li>What is one conclusion could you draw from visualizing of the earnings in the different year? Please express it in plain language/non-statistics terms/as though you were explaining to one of your friends what happened to earnings between 1974 and 1978?\n",
    "\n",
    "\n",
    "\n",
    "\n",
    "2 Which has the greatest effect size on 1978 earnings: Race, Hispanic, MaritalStatus, or Nodeg? \n",
    "    <ul>\n",
    "    <li>What could you investigate further in an attempt to explain this?\n",
    "    </ul>\n",
    "\n",
    "\n",
    "\n",
    "\n",
    "3 Plot a histogram and PMF, and compute useful descriptive statistics (think: average...) for the 1978 earnings value. Use the \"Cohorts\" code from the quiz to break the data into cohorts, plotting each group (either on one chart, or separately, whichever makes the most sense for examining the data - state specifically why you chose 1 vs many charts.\n",
    "\n",
    "\n",
    "    <li>What is the difference in median income between the groups?\n",
    "    <li>Theorize a reason for the difference between the groups that could be explained with more data. Briefly describe the data you'd need. This does not need to be something you have data for, or know how to solve right now - just one well founded hypothesis on what might explain the difference.\n",
    "    </ul>\n",
    "\n",
    "\n",
    "\n",
    "4 Are there outliers in the 1978 earnings data? Demonstrate this in some way with your code. \n",
    "    <li>What can you infer from the presence of outliers that may impact analysis of this data.\n"
   ]
  },
  {
   "cell_type": "markdown",
   "metadata": {},
   "source": [
    "##### Plot Earnings Data"
   ]
  },
  {
   "cell_type": "code",
   "execution_count": 28,
   "metadata": {},
   "outputs": [
    {
     "data": {
      "text/plain": [
       "<AxesSubplot:xlabel='Earnings_1974', ylabel='Count'>"
      ]
     },
     "execution_count": 28,
     "metadata": {},
     "output_type": "execute_result"
    },
    {
     "data": {
      "image/png": "[encoded data removed]",
      "text/plain": [
       "<Figure size 432x288 with 1 Axes>"
      ]
     },
     "metadata": {
      "needs_background": "light"
     },
     "output_type": "display_data"
    }
   ],
   "source": [
    "df_1974 = pd.read_csv(\"LabourTrainingEvaluationData.csv\")\n",
    "sns.histplot(df_1974['Earnings_1974'])"
   ]
  },
  {
   "cell_type": "code",
   "execution_count": 15,
   "metadata": {},
   "outputs": [
    {
     "data": {
      "text/plain": [
       "<AxesSubplot:xlabel='Earnings_1975', ylabel='Count'>"
      ]
     },
     "execution_count": 15,
     "metadata": {},
     "output_type": "execute_result"
    },
    {
     "data": {
      "image/png": "[encoded data removed]",
      "text/plain": [
       "<Figure size 432x288 with 1 Axes>"
      ]
     },
     "metadata": {
      "needs_background": "light"
     },
     "output_type": "display_data"
    }
   ],
   "source": [
    "df_1975 = pd.read_csv(\"LabourTrainingEvaluationData.csv\")\n",
    "sns.histplot(df_1975['Earnings_1975'])"
   ]
  },
  {
   "cell_type": "code",
   "execution_count": 16,
   "metadata": {},
   "outputs": [
    {
     "data": {
      "text/plain": [
       "<AxesSubplot:xlabel='Earnings_1978', ylabel='Count'>"
      ]
     },
     "execution_count": 16,
     "metadata": {},
     "output_type": "execute_result"
    },
    {
     "data": {
      "image/png": "[encoded data removed]",
      "text/plain": [
       "<Figure size 432x288 with 1 Axes>"
      ]
     },
     "metadata": {
      "needs_background": "light"
     },
     "output_type": "display_data"
    }
   ],
   "source": [
    "df_1978 = pd.read_csv(\"LabourTrainingEvaluationData.csv\")\n",
    "sns.histplot(df_1978['Earnings_1978'])"
   ]
  },
  {
   "cell_type": "code",
   "execution_count": 17,
   "metadata": {},
   "outputs": [
    {
     "name": "stderr",
     "output_type": "stream",
     "text": [
      "c:\\Users\\Elsa\\anaconda3\\lib\\site-packages\\seaborn\\distributions.py:2619: FutureWarning: `distplot` is a deprecated function and will be removed in a future version. Please adapt your code to use either `displot` (a figure-level function with similar flexibility) or `histplot` (an axes-level function for histograms).\n",
      "  warnings.warn(msg, FutureWarning)\n",
      "c:\\Users\\Elsa\\anaconda3\\lib\\site-packages\\seaborn\\distributions.py:2619: FutureWarning: `distplot` is a deprecated function and will be removed in a future version. Please adapt your code to use either `displot` (a figure-level function with similar flexibility) or `histplot` (an axes-level function for histograms).\n",
      "  warnings.warn(msg, FutureWarning)\n",
      "c:\\Users\\Elsa\\anaconda3\\lib\\site-packages\\seaborn\\distributions.py:2619: FutureWarning: `distplot` is a deprecated function and will be removed in a future version. Please adapt your code to use either `displot` (a figure-level function with similar flexibility) or `histplot` (an axes-level function for histograms).\n",
      "  warnings.warn(msg, FutureWarning)\n"
     ]
    },
    {
     "data": {
      "image/png": "[encoded data removed]",
      "text/plain": [
       "<Figure size 432x288 with 1 Axes>"
      ]
     },
     "metadata": {
      "needs_background": "light"
     },
     "output_type": "display_data"
    }
   ],
   "source": [
    "sns.distplot(df['Earnings_1974'], kde_kws = {'label' : '1974 Earning'}, hist_kws = {'label' : 'Total'})\n",
    "sns.distplot(df['Earnings_1975'], kde_kws = {'label' : '1975 Earning', 'color' : 'red'})\n",
    "sns.distplot(df['Earnings_1978'], kde_kws = {'label' : '1978 Earning', 'color' : 'green'})\n",
    "plt.show()"
   ]
  },
  {
   "cell_type": "markdown",
   "metadata": {},
   "source": [
    "As a conclusion, there seems to be a large jump in the number of people earning near the top end, around $25k. Otherwise the distributions are pretty similar. "
   ]
  },
  {
   "cell_type": "markdown",
   "metadata": {},
   "source": [
    "##### What to Investigate Further\n"
   ]
  },
  {
   "cell_type": "markdown",
   "metadata": {},
   "source": [
    "##### Histogram and PMF"
   ]
  },
  {
   "cell_type": "code",
   "execution_count": 18,
   "metadata": {},
   "outputs": [],
   "source": [
    "#Create a hist, pmf, and stats for 1987 Earnings\n",
    "#Note: if you don't round or otherwise create bins, the thinkstats plots for this will be weird\n",
    "#That's because there are very few values that are the same, e.g. $14762.34, $15672.86, etc... \n",
    "#Every cent is a different value. \n",
    "#Seaborn plots will probably look better by default. "
   ]
  },
  {
   "cell_type": "code",
   "execution_count": 30,
   "metadata": {},
   "outputs": [
    {
     "data": {
      "image/png": "[encoded data removed]",
      "text/plain": [
       "<Figure size 432x288 with 1 Axes>"
      ]
     },
     "metadata": {
      "needs_background": "light"
     },
     "output_type": "display_data"
    }
   ],
   "source": [
    "h_1978 = thinkstats2.Hist(df['Earnings_1978'], 5)\n",
    "thinkplot.Hist(h_1978)\n",
    "thinkplot.config()\n",
    "thinkplot.Config(xlabel='Age', ylabel='count')"
   ]
  },
  {
   "cell_type": "code",
   "execution_count": 31,
   "metadata": {},
   "outputs": [
    {
     "name": "stderr",
     "output_type": "stream",
     "text": [
      "d:\\Documents\\2022 Data Analytics\\DATA3450 Statistical Learning\\BSIP_Assignment_1_Students\\thinkplot.py:465: UserWarning: Pmf: Can't compute bar width automatically.Check for non-numeric types in Pmf.Or try providing width option.\n",
      "  warnings.warn(\"Pmf: Can't compute bar width automatically.\"\n"
     ]
    },
    {
     "ename": "TypeError",
     "evalue": "unsupported operand type(s) for -: 'str' and 'float'",
     "output_type": "error",
     "traceback": [
      "\u001b[1;31m---------------------------------------------------------------------------\u001b[0m",
      "\u001b[1;31mTypeError\u001b[0m                                 Traceback (most recent call last)",
      "\u001b[1;32md:\\Documents\\2022 Data Analytics\\DATA3450 Statistical Learning\\BSIP_Assignment_1_Students\\stats_asn_1_stud_temp.ipynb Cell 34\u001b[0m in \u001b[0;36m<cell line: 2>\u001b[1;34m()\u001b[0m\n\u001b[0;32m      <a href='vscode-notebook-cell:/d%3A/Documents/2022%20Data%20Analytics/DATA3450%20Statistical%20Learning/BSIP_Assignment_1_Students/stats_asn_1_stud_temp.ipynb#X44sZmlsZQ%3D%3D?line=0'>1</a>\u001b[0m pmf_1978 \u001b[39m=\u001b[39m thinkstats2\u001b[39m.\u001b[39mPmf(df_1978)\n\u001b[1;32m----> <a href='vscode-notebook-cell:/d%3A/Documents/2022%20Data%20Analytics/DATA3450%20Statistical%20Learning/BSIP_Assignment_1_Students/stats_asn_1_stud_temp.ipynb#X44sZmlsZQ%3D%3D?line=1'>2</a>\u001b[0m thinkplot\u001b[39m.\u001b[39;49mPmf(pmf_1978)\n\u001b[0;32m      <a href='vscode-notebook-cell:/d%3A/Documents/2022%20Data%20Analytics/DATA3450%20Statistical%20Learning/BSIP_Assignment_1_Students/stats_asn_1_stud_temp.ipynb#X44sZmlsZQ%3D%3D?line=2'>3</a>\u001b[0m thinkplot\u001b[39m.\u001b[39mconfig()\n",
      "File \u001b[1;32md:\\Documents\\2022 Data Analytics\\DATA3450 Statistical Learning\\BSIP_Assignment_1_Students\\thinkplot.py:473\u001b[0m, in \u001b[0;36mPmf\u001b[1;34m(pmf, **options)\u001b[0m\n\u001b[0;32m    471\u001b[0m lasty \u001b[39m=\u001b[39m \u001b[39m0\u001b[39m\n\u001b[0;32m    472\u001b[0m \u001b[39mfor\u001b[39;00m x, y \u001b[39min\u001b[39;00m \u001b[39mzip\u001b[39m(xs, ys):\n\u001b[1;32m--> 473\u001b[0m     \u001b[39mif\u001b[39;00m (x \u001b[39m-\u001b[39;49m lastx) \u001b[39m>\u001b[39m \u001b[39m1e-5\u001b[39m:\n\u001b[0;32m    474\u001b[0m         points\u001b[39m.\u001b[39mappend((lastx, \u001b[39m0\u001b[39m))\n\u001b[0;32m    475\u001b[0m         points\u001b[39m.\u001b[39mappend((x, \u001b[39m0\u001b[39m))\n",
      "\u001b[1;31mTypeError\u001b[0m: unsupported operand type(s) for -: 'str' and 'float'"
     ]
    }
   ],
   "source": [
    "pmf_1978 = thinkstats2.Pmf(df_1978)\n",
    "thinkplot.Pmf(pmf_1978)\n",
    "thinkplot.config()"
   ]
  },
  {
   "cell_type": "markdown",
   "metadata": {},
   "source": [
    "##### Differences in Median Income, and Theory on Why\n"
   ]
  },
  {
   "cell_type": "markdown",
   "metadata": {},
   "source": [
    "##### Outliers"
   ]
  },
  {
   "cell_type": "code",
   "execution_count": 20,
   "metadata": {},
   "outputs": [
    {
     "data": {
      "text/html": [
       "<div>\n",
       "<style scoped>\n",
       "    .dataframe tbody tr th:only-of-type {\n",
       "        vertical-align: middle;\n",
       "    }\n",
       "\n",
       "    .dataframe tbody tr th {\n",
       "        vertical-align: top;\n",
       "    }\n",
       "\n",
       "    .dataframe thead th {\n",
       "        text-align: right;\n",
       "    }\n",
       "</style>\n",
       "<table border=\"1\" class=\"dataframe\">\n",
       "  <thead>\n",
       "    <tr style=\"text-align: right;\">\n",
       "      <th></th>\n",
       "      <th>Age</th>\n",
       "      <th>Nodeg</th>\n",
       "      <th>Earnings_1974</th>\n",
       "      <th>Earnings_1975</th>\n",
       "      <th>Earnings_1978</th>\n",
       "    </tr>\n",
       "  </thead>\n",
       "  <tbody>\n",
       "    <tr>\n",
       "      <th>count</th>\n",
       "      <td>10806.000000</td>\n",
       "      <td>10806.000000</td>\n",
       "      <td>10806.000000</td>\n",
       "      <td>10806.000000</td>\n",
       "      <td>10806.000000</td>\n",
       "    </tr>\n",
       "    <tr>\n",
       "      <th>mean</th>\n",
       "      <td>31.777346</td>\n",
       "      <td>0.350916</td>\n",
       "      <td>10234.472110</td>\n",
       "      <td>9850.718083</td>\n",
       "      <td>9827.610646</td>\n",
       "    </tr>\n",
       "    <tr>\n",
       "      <th>std</th>\n",
       "      <td>11.442488</td>\n",
       "      <td>0.477279</td>\n",
       "      <td>8530.998774</td>\n",
       "      <td>8121.745450</td>\n",
       "      <td>7737.838732</td>\n",
       "    </tr>\n",
       "    <tr>\n",
       "      <th>min</th>\n",
       "      <td>16.000000</td>\n",
       "      <td>0.000000</td>\n",
       "      <td>0.000000</td>\n",
       "      <td>0.000000</td>\n",
       "      <td>0.000000</td>\n",
       "    </tr>\n",
       "    <tr>\n",
       "      <th>25%</th>\n",
       "      <td>22.000000</td>\n",
       "      <td>0.000000</td>\n",
       "      <td>1516.962750</td>\n",
       "      <td>1767.048000</td>\n",
       "      <td>1426.005750</td>\n",
       "    </tr>\n",
       "    <tr>\n",
       "      <th>50%</th>\n",
       "      <td>29.000000</td>\n",
       "      <td>0.000000</td>\n",
       "      <td>9641.552000</td>\n",
       "      <td>9184.355000</td>\n",
       "      <td>9938.450000</td>\n",
       "    </tr>\n",
       "    <tr>\n",
       "      <th>75%</th>\n",
       "      <td>41.000000</td>\n",
       "      <td>1.000000</td>\n",
       "      <td>17335.590000</td>\n",
       "      <td>16521.100000</td>\n",
       "      <td>16699.420000</td>\n",
       "    </tr>\n",
       "    <tr>\n",
       "      <th>max</th>\n",
       "      <td>55.000000</td>\n",
       "      <td>1.000000</td>\n",
       "      <td>25862.320000</td>\n",
       "      <td>25243.550000</td>\n",
       "      <td>22996.380000</td>\n",
       "    </tr>\n",
       "  </tbody>\n",
       "</table>\n",
       "</div>"
      ],
      "text/plain": [
       "                Age         Nodeg  Earnings_1974  Earnings_1975  Earnings_1978\n",
       "count  10806.000000  10806.000000   10806.000000   10806.000000   10806.000000\n",
       "mean      31.777346      0.350916   10234.472110    9850.718083    9827.610646\n",
       "std       11.442488      0.477279    8530.998774    8121.745450    7737.838732\n",
       "min       16.000000      0.000000       0.000000       0.000000       0.000000\n",
       "25%       22.000000      0.000000    1516.962750    1767.048000    1426.005750\n",
       "50%       29.000000      0.000000    9641.552000    9184.355000    9938.450000\n",
       "75%       41.000000      1.000000   17335.590000   16521.100000   16699.420000\n",
       "max       55.000000      1.000000   25862.320000   25243.550000   22996.380000"
      ]
     },
     "execution_count": 20,
     "metadata": {},
     "output_type": "execute_result"
    }
   ],
   "source": [
    "df = df_1978[df_1978['Earnings_1978'] > 5000]\n",
    "df = df_1978[df_1978['Earnings_1978'] < 23000]\n",
    "df.describe()"
   ]
  },
  {
   "cell_type": "markdown",
   "metadata": {},
   "source": [
    "##### Outlier Conclusions\n"
   ]
  },
  {
   "cell_type": "markdown",
   "metadata": {},
   "source": [
    "1. In 1974, 1975 and 1978, the income showed very steadly. \n",
    "2. In these years, all presented there were a few extreme low and high income in data.\n",
    "3. It could esteadilybetter, if there has more incomes of years in data.\n"
   ]
  }
 ],
 "metadata": {
  "kernelspec": {
   "display_name": "Python 3.9.12 ('base')",
   "language": "python",
   "name": "python3"
  },
  "language_info": {
   "codemirror_mode": {
    "name": "ipython",
    "version": 3
   },
   "file_extension": ".py",
   "mimetype": "text/x-python",
   "name": "python",
   "nbconvert_exporter": "python",
   "pygments_lexer": "ipython3",
   "version": "3.9.12"
  },
  "orig_nbformat": 4,
  "vscode": {
   "interpreter": {
    "hash": "40846f95e88ae24f681f7d79d7396bca459ce37b2ecada686cfbc3bbe9daaf0c"
   }
  }
 },
 "nbformat": 4,
 "nbformat_minor": 2
}
